{
 "cells": [
  {
   "cell_type": "markdown",
   "id": "b00cd989",
   "metadata": {},
   "source": [
    "# Task 1 - Exploratory Data Analysis (EDA)\n",
    "- This notebook aims to present the findings of my analysis, and also a detailed walkthrough of the steps taken to derive the results."
   ]
  },
  {
   "cell_type": "markdown",
   "id": "a56ee895",
   "metadata": {},
   "source": [
    "**Outline:**\n",
    "1. Data Loading\n",
    "2. Basic Data Exploration\n",
    "3. Data Preprocessing\n",
    "\n",
    "    3a. 'Age' feature engineering\n",
    "    \n",
    "4. In-Depth Data Exploration\n",
    "5. Insights and Conclusions"
   ]
  },
  {
   "cell_type": "markdown",
   "id": "3fda10e9",
   "metadata": {},
   "source": [
    "# Data Loading\n",
    "**Purpose:**\n",
    "- Load and prepare database files into Python environment"
   ]
  },
  {
   "cell_type": "markdown",
   "id": "31342bfe",
   "metadata": {},
   "source": [
    "## Preparing database ('.db') files"
   ]
  },
  {
   "cell_type": "markdown",
   "id": "2633122c",
   "metadata": {},
   "source": [
    "#### Use `sqlite3` library to prepare database ('.db') files"
   ]
  },
  {
   "cell_type": "code",
   "execution_count": 1,
   "id": "4f9e6c65",
   "metadata": {},
   "outputs": [],
   "source": [
    "# Import required libraries\n",
    "import sqlite3\n",
    "import numpy as np\n",
    "import pandas as pd\n",
    "import matplotlib.pyplot as plt\n",
    "import seaborn as sns"
   ]
  },
  {
   "cell_type": "markdown",
   "id": "1e780ed6",
   "metadata": {},
   "source": [
    "#### Define a 'get database connection' function for reusability and readability"
   ]
  },
  {
   "cell_type": "code",
   "execution_count": 2,
   "id": "f3c4e8e8",
   "metadata": {},
   "outputs": [],
   "source": [
    "# Define a function that returns database connection object\n",
    "\n",
    "def get_db_connection(url):\n",
    "    conn = sqlite3.connect(url)        # points database connection object to conn\n",
    "    conn.row_factory = sqlite3.Row     # set return rows as dictionaries instead of tuples\n",
    "    return conn"
   ]
  },
  {
   "cell_type": "markdown",
   "id": "c27ba8ae",
   "metadata": {},
   "source": [
    "#### Load **cruise_pre.db** and **cruise_post.db** into Python environment\n",
    "- Dataset are read into a list of dictionaries, with each dictionary representing an individual row of data\n",
    "\n",
    "- This is an intermediary step before converting to DataFrame"
   ]
  },
  {
   "cell_type": "code",
   "execution_count": 3,
   "id": "12bcbff7",
   "metadata": {},
   "outputs": [],
   "source": [
    "# Read cruise_pre.db and cruise_post.db into list of dictionaries\n",
    "\n",
    "# Define required variables to store data from db\n",
    "cruise_pre_data = []\n",
    "cruise_post_data = []\n",
    "\n",
    "# Define variable to store name of the tables\n",
    "table_name = ['cruise_pre','cruise_post']\n",
    "\n",
    "# Iterate through the 2 provided data sets: cruise_pre.db and cruise_post.db\n",
    "for table in table_name:\n",
    "\n",
    "    # Create connection to database using defined function\n",
    "    conn = get_db_connection('data/'+ table + '.db')\n",
    "    # Execute query to fetch all rows and columns\n",
    "    data = conn.execute('SELECT * FROM {}'.format(table)).fetchall()\n",
    "\n",
    "    # Append row to respective variable store\n",
    "    if table == 'cruise_pre':\n",
    "        for row in data:\n",
    "            cruise_pre_data.append(dict(row))\n",
    "    else:\n",
    "        for row in data:\n",
    "            cruise_post_data.append(dict(row))\n",
    "\n",
    "# close database connection after completion of task\n",
    "conn.close()\n",
    "\n",
    "# Output: cruise_pre_data and cruise_post_data now contains list of dictionaries"
   ]
  },
  {
   "cell_type": "markdown",
   "id": "507aa18c",
   "metadata": {},
   "source": [
    "#### Convert list of dict to Pandas DataFrame\n",
    "**Purpose:**\n",
    "- Convert to Pandas DataFrame objects as it unlocks a wide variety of simple and clean data analytics libraries"
   ]
  },
  {
   "cell_type": "code",
   "execution_count": 4,
   "id": "a3f4aa0c",
   "metadata": {},
   "outputs": [],
   "source": [
    "# Read list of dictionaries into Pandas Dataframe\n",
    "# Set 'index' column as index\n",
    "cruise_post_df = pd.DataFrame(data=cruise_post_data).set_index('index')\n",
    "cruise_pre_df = pd.DataFrame(data=cruise_pre_data).set_index('index')"
   ]
  },
  {
   "cell_type": "markdown",
   "id": "c52c846b",
   "metadata": {},
   "source": [
    "# Basic Data Exploration\n",
    "**Purpose:**\n",
    "- Understanding of the structure, content and quality of the datasets\n",
    "- Identify any missing data that may impact analysis"
   ]
  },
  {
   "cell_type": "markdown",
   "id": "efd69b57",
   "metadata": {},
   "source": [
    "## Basic Information about the dataset using describe(), info() and sum()"
   ]
  },
  {
   "cell_type": "code",
   "execution_count": 5,
   "id": "347943a7",
   "metadata": {},
   "outputs": [
    {
     "name": "stdout",
     "output_type": "stream",
     "text": [
      "<class 'pandas.core.frame.DataFrame'>\n",
      "Int64Index: 133746 entries, 0 to 133745\n",
      "Data columns (total 18 columns):\n",
      " #   Column                                      Non-Null Count   Dtype  \n",
      "---  ------                                      --------------   -----  \n",
      " 0   Gender                                      120290 non-null  object \n",
      " 1   Date of Birth                               119062 non-null  object \n",
      " 2   Source of Traffic                           133746 non-null  object \n",
      " 3   Onboard Wifi Service                        114254 non-null  object \n",
      " 4   Embarkation/Disembarkation time convenient  118103 non-null  float64\n",
      " 5   Ease of Online booking                      115391 non-null  float64\n",
      " 6   Gate location                               116606 non-null  float64\n",
      " 7   Logging                                     133746 non-null  object \n",
      " 8   Onboard Dining Service                      116937 non-null  object \n",
      " 9   Online Check-in                             118059 non-null  float64\n",
      " 10  Cabin Comfort                               113494 non-null  float64\n",
      " 11  Onboard Entertainment                       117833 non-null  object \n",
      " 12  Cabin service                               119914 non-null  float64\n",
      " 13  Baggage handling                            113453 non-null  float64\n",
      " 14  Port Check-in Service                       119399 non-null  float64\n",
      " 15  Onboard Service                             115419 non-null  float64\n",
      " 16  Cleanliness                                 115344 non-null  float64\n",
      " 17  Ext_Intcode                                 133746 non-null  object \n",
      "dtypes: float64(10), object(8)\n",
      "memory usage: 19.4+ MB\n"
     ]
    }
   ],
   "source": [
    "cruise_pre_df.info()"
   ]
  },
  {
   "cell_type": "code",
   "execution_count": 6,
   "id": "8689daa8",
   "metadata": {},
   "outputs": [
    {
     "data": {
      "text/html": [
       "<div>\n",
       "<style scoped>\n",
       "    .dataframe tbody tr th:only-of-type {\n",
       "        vertical-align: middle;\n",
       "    }\n",
       "\n",
       "    .dataframe tbody tr th {\n",
       "        vertical-align: top;\n",
       "    }\n",
       "\n",
       "    .dataframe thead th {\n",
       "        text-align: right;\n",
       "    }\n",
       "</style>\n",
       "<table border=\"1\" class=\"dataframe\">\n",
       "  <thead>\n",
       "    <tr style=\"text-align: right;\">\n",
       "      <th></th>\n",
       "      <th>Embarkation/Disembarkation time convenient</th>\n",
       "      <th>Ease of Online booking</th>\n",
       "      <th>Gate location</th>\n",
       "      <th>Online Check-in</th>\n",
       "      <th>Cabin Comfort</th>\n",
       "      <th>Cabin service</th>\n",
       "      <th>Baggage handling</th>\n",
       "      <th>Port Check-in Service</th>\n",
       "      <th>Onboard Service</th>\n",
       "      <th>Cleanliness</th>\n",
       "    </tr>\n",
       "  </thead>\n",
       "  <tbody>\n",
       "    <tr>\n",
       "      <th>count</th>\n",
       "      <td>118103.000000</td>\n",
       "      <td>115391.000000</td>\n",
       "      <td>116606.000000</td>\n",
       "      <td>118059.000000</td>\n",
       "      <td>113494.000000</td>\n",
       "      <td>119914.000000</td>\n",
       "      <td>113453.000000</td>\n",
       "      <td>119399.000000</td>\n",
       "      <td>115419.000000</td>\n",
       "      <td>115344.000000</td>\n",
       "    </tr>\n",
       "    <tr>\n",
       "      <th>mean</th>\n",
       "      <td>3.055850</td>\n",
       "      <td>2.758170</td>\n",
       "      <td>2.978526</td>\n",
       "      <td>3.249884</td>\n",
       "      <td>3.439574</td>\n",
       "      <td>3.383925</td>\n",
       "      <td>3.633416</td>\n",
       "      <td>3.308470</td>\n",
       "      <td>3.641844</td>\n",
       "      <td>3.285745</td>\n",
       "    </tr>\n",
       "    <tr>\n",
       "      <th>std</th>\n",
       "      <td>1.526012</td>\n",
       "      <td>1.401888</td>\n",
       "      <td>1.277984</td>\n",
       "      <td>1.350811</td>\n",
       "      <td>1.321604</td>\n",
       "      <td>1.287508</td>\n",
       "      <td>1.178899</td>\n",
       "      <td>1.266476</td>\n",
       "      <td>1.177988</td>\n",
       "      <td>1.313328</td>\n",
       "    </tr>\n",
       "    <tr>\n",
       "      <th>min</th>\n",
       "      <td>0.000000</td>\n",
       "      <td>0.000000</td>\n",
       "      <td>0.000000</td>\n",
       "      <td>0.000000</td>\n",
       "      <td>0.000000</td>\n",
       "      <td>0.000000</td>\n",
       "      <td>1.000000</td>\n",
       "      <td>1.000000</td>\n",
       "      <td>0.000000</td>\n",
       "      <td>0.000000</td>\n",
       "    </tr>\n",
       "    <tr>\n",
       "      <th>25%</th>\n",
       "      <td>2.000000</td>\n",
       "      <td>2.000000</td>\n",
       "      <td>2.000000</td>\n",
       "      <td>2.000000</td>\n",
       "      <td>2.000000</td>\n",
       "      <td>2.000000</td>\n",
       "      <td>3.000000</td>\n",
       "      <td>3.000000</td>\n",
       "      <td>3.000000</td>\n",
       "      <td>2.000000</td>\n",
       "    </tr>\n",
       "    <tr>\n",
       "      <th>50%</th>\n",
       "      <td>3.000000</td>\n",
       "      <td>3.000000</td>\n",
       "      <td>3.000000</td>\n",
       "      <td>3.000000</td>\n",
       "      <td>4.000000</td>\n",
       "      <td>4.000000</td>\n",
       "      <td>4.000000</td>\n",
       "      <td>3.000000</td>\n",
       "      <td>4.000000</td>\n",
       "      <td>3.000000</td>\n",
       "    </tr>\n",
       "    <tr>\n",
       "      <th>75%</th>\n",
       "      <td>4.000000</td>\n",
       "      <td>4.000000</td>\n",
       "      <td>4.000000</td>\n",
       "      <td>4.000000</td>\n",
       "      <td>5.000000</td>\n",
       "      <td>4.000000</td>\n",
       "      <td>5.000000</td>\n",
       "      <td>4.000000</td>\n",
       "      <td>5.000000</td>\n",
       "      <td>4.000000</td>\n",
       "    </tr>\n",
       "    <tr>\n",
       "      <th>max</th>\n",
       "      <td>5.000000</td>\n",
       "      <td>5.000000</td>\n",
       "      <td>5.000000</td>\n",
       "      <td>5.000000</td>\n",
       "      <td>5.000000</td>\n",
       "      <td>5.000000</td>\n",
       "      <td>5.000000</td>\n",
       "      <td>5.000000</td>\n",
       "      <td>5.000000</td>\n",
       "      <td>5.000000</td>\n",
       "    </tr>\n",
       "  </tbody>\n",
       "</table>\n",
       "</div>"
      ],
      "text/plain": [
       "       Embarkation/Disembarkation time convenient  Ease of Online booking  \\\n",
       "count                               118103.000000           115391.000000   \n",
       "mean                                     3.055850                2.758170   \n",
       "std                                      1.526012                1.401888   \n",
       "min                                      0.000000                0.000000   \n",
       "25%                                      2.000000                2.000000   \n",
       "50%                                      3.000000                3.000000   \n",
       "75%                                      4.000000                4.000000   \n",
       "max                                      5.000000                5.000000   \n",
       "\n",
       "       Gate location  Online Check-in  Cabin Comfort  Cabin service  \\\n",
       "count  116606.000000    118059.000000  113494.000000  119914.000000   \n",
       "mean        2.978526         3.249884       3.439574       3.383925   \n",
       "std         1.277984         1.350811       1.321604       1.287508   \n",
       "min         0.000000         0.000000       0.000000       0.000000   \n",
       "25%         2.000000         2.000000       2.000000       2.000000   \n",
       "50%         3.000000         3.000000       4.000000       4.000000   \n",
       "75%         4.000000         4.000000       5.000000       4.000000   \n",
       "max         5.000000         5.000000       5.000000       5.000000   \n",
       "\n",
       "       Baggage handling  Port Check-in Service  Onboard Service    Cleanliness  \n",
       "count     113453.000000          119399.000000    115419.000000  115344.000000  \n",
       "mean           3.633416               3.308470         3.641844       3.285745  \n",
       "std            1.178899               1.266476         1.177988       1.313328  \n",
       "min            1.000000               1.000000         0.000000       0.000000  \n",
       "25%            3.000000               3.000000         3.000000       2.000000  \n",
       "50%            4.000000               3.000000         4.000000       3.000000  \n",
       "75%            5.000000               4.000000         5.000000       4.000000  \n",
       "max            5.000000               5.000000         5.000000       5.000000  "
      ]
     },
     "execution_count": 6,
     "metadata": {},
     "output_type": "execute_result"
    }
   ],
   "source": [
    "cruise_pre_df.describe()"
   ]
  },
  {
   "cell_type": "code",
   "execution_count": 7,
   "id": "161f2154",
   "metadata": {},
   "outputs": [
    {
     "data": {
      "text/plain": [
       "Gender                                           0\n",
       "Date of Birth                                    0\n",
       "Source of Traffic                                0\n",
       "Onboard Wifi Service                             0\n",
       "Embarkation/Disembarkation time convenient    6036\n",
       "Ease of Online booking                        5020\n",
       "Gate location                                    1\n",
       "Logging                                          0\n",
       "Onboard Dining Service                           0\n",
       "Online Check-in                               2770\n",
       "Cabin Comfort                                    1\n",
       "Onboard Entertainment                            0\n",
       "Cabin service                                    5\n",
       "Baggage handling                                 0\n",
       "Port Check-in Service                            0\n",
       "Onboard Service                                  5\n",
       "Cleanliness                                     13\n",
       "Ext_Intcode                                      0\n",
       "dtype: int64"
      ]
     },
     "execution_count": 7,
     "metadata": {},
     "output_type": "execute_result"
    }
   ],
   "source": [
    "# Sum number of 0s for columns, looking out for the count for ratings\n",
    "# as ratings cannot be 0\n",
    "\n",
    "(cruise_pre_df == 0.0).sum()"
   ]
  },
  {
   "cell_type": "code",
   "execution_count": 8,
   "id": "20c64e67",
   "metadata": {},
   "outputs": [
    {
     "name": "stdout",
     "output_type": "stream",
     "text": [
      "<class 'pandas.core.frame.DataFrame'>\n",
      "Int64Index: 133746 entries, 0 to 133745\n",
      "Data columns (total 7 columns):\n",
      " #   Column           Non-Null Count   Dtype  \n",
      "---  ------           --------------   -----  \n",
      " 0   Cruise Name      117815 non-null  object \n",
      " 1   Ticket Type      113685 non-null  object \n",
      " 2   Cruise Distance  119260 non-null  object \n",
      " 3   Ext_Intcode      133746 non-null  object \n",
      " 4   WiFi             64012 non-null   float64\n",
      " 5   Dining           133746 non-null  int64  \n",
      " 6   Entertainment    73689 non-null   float64\n",
      "dtypes: float64(2), int64(1), object(4)\n",
      "memory usage: 8.2+ MB\n",
      "None\n",
      "\n",
      "\n",
      "               WiFi         Dining  Entertainment\n",
      "count  64012.000000  133746.000000   73689.000000\n",
      "mean       0.500578       0.499290       0.503142\n",
      "std        0.500004       0.500001       0.499994\n",
      "min        0.000000       0.000000       0.000000\n",
      "25%        0.000000       0.000000       0.000000\n",
      "50%        1.000000       0.000000       1.000000\n",
      "75%        1.000000       1.000000       1.000000\n",
      "max        1.000000       1.000000       1.000000\n"
     ]
    }
   ],
   "source": [
    "print(cruise_post_df.info())\n",
    "print('\\n')\n",
    "print(cruise_post_df.describe())"
   ]
  },
  {
   "cell_type": "markdown",
   "id": "3fb027fd",
   "metadata": {},
   "source": [
    "## Understand the spread of missing values"
   ]
  },
  {
   "cell_type": "code",
   "execution_count": 9,
   "id": "ca5845a2",
   "metadata": {},
   "outputs": [
    {
     "name": "stdout",
     "output_type": "stream",
     "text": [
      "Pre-trip survey data\n",
      "Column Name --------------------------- Missing Values\n",
      "Gender                                        13456\n",
      "Date of Birth                                 14684\n",
      "Source of Traffic                                 0\n",
      "Onboard Wifi Service                          19492\n",
      "Embarkation/Disembarkation time convenient    15643\n",
      "Ease of Online booking                        18355\n",
      "Gate location                                 17140\n",
      "Logging                                           0\n",
      "Onboard Dining Service                        16809\n",
      "Online Check-in                               15687\n",
      "Cabin Comfort                                 20252\n",
      "Onboard Entertainment                         15913\n",
      "Cabin service                                 13832\n",
      "Baggage handling                              20293\n",
      "Port Check-in Service                         14347\n",
      "Onboard Service                               18327\n",
      "Cleanliness                                   18402\n",
      "Ext_Intcode                                       0\n",
      "dtype: int64\n",
      "\n",
      "Post-cruise data\n",
      "Column Name -- Missing Values\n",
      "Cruise Name        15931\n",
      "Ticket Type        20061\n",
      "Cruise Distance    14486\n",
      "Ext_Intcode            0\n",
      "WiFi               69734\n",
      "Dining                 0\n",
      "Entertainment      60057\n",
      "dtype: int64\n"
     ]
    }
   ],
   "source": [
    "# Print how many missing values in each data set\n",
    "\n",
    "print('Pre-trip survey data')\n",
    "print('Column Name --------------------------- Missing Values')\n",
    "print(cruise_pre_df.isnull().sum())\n",
    "print('\\nPost-cruise data')\n",
    "print('Column Name -- Missing Values')\n",
    "print(cruise_post_df.isnull().sum())"
   ]
  },
  {
   "cell_type": "code",
   "execution_count": 10,
   "id": "85761e70",
   "metadata": {},
   "outputs": [
    {
     "data": {
      "text/plain": [
       "Text(0.5, 1.0, 'cruise_post_df')"
      ]
     },
     "execution_count": 10,
     "metadata": {},
     "output_type": "execute_result"
    },
    {
     "data": {
      "image/png": "[encoded data removed]",
      "text/plain": [
       "<Figure size 1200x600 with 2 Axes>"
      ]
     },
     "metadata": {},
     "output_type": "display_data"
    }
   ],
   "source": [
    "# Visualise the null values in each data set\n",
    "\n",
    "# Create a figure with two subplots\n",
    "fig, axes = plt.subplots(1, 2, figsize=(12, 6))\n",
    "\n",
    "# Plot the first heatmap (cruise_pre_df)\n",
    "sns.heatmap(cruise_pre_df.isnull(), yticklabels=False, cbar=False, cmap='viridis', ax=axes[0])\n",
    "axes[0].set_title('cruise_pre_df')\n",
    "\n",
    "# Plot the second heatmap (cruise_post_df)\n",
    "sns.heatmap(cruise_post_df.isnull(), yticklabels=False, cbar=False, cmap='viridis', ax=axes[1])\n",
    "axes[1].set_title('cruise_post_df')\n"
   ]
  },
  {
   "cell_type": "markdown",
   "id": "9d5125c6",
   "metadata": {},
   "source": [
    "## Understand the values in the columns"
   ]
  },
  {
   "cell_type": "markdown",
   "id": "6bb7902a",
   "metadata": {},
   "source": [
    "Executing the next line, we can see the different values in `Onboard Wifi Service`, `Onboard Entertainment` and `Onboard Dining Service` columns:\n",
    "1. 'A little important'\n",
    "2. 'Extremely important'\n",
    "3. 'Not at all important'\n",
    "4. 'Somewhat important'\n",
    "5. 'Very important'\n",
    "\n",
    "And these are the values for `Ticket Tier`\n",
    "1. 'Deluxe'\n",
    "2. 'Luxury'\n",
    "3. 'Standard'"
   ]
  },
  {
   "cell_type": "code",
   "execution_count": 11,
   "id": "4497f975",
   "metadata": {},
   "outputs": [
    {
     "data": {
      "text/html": [
       "<div>\n",
       "<style scoped>\n",
       "    .dataframe tbody tr th:only-of-type {\n",
       "        vertical-align: middle;\n",
       "    }\n",
       "\n",
       "    .dataframe tbody tr th {\n",
       "        vertical-align: top;\n",
       "    }\n",
       "\n",
       "    .dataframe thead th {\n",
       "        text-align: right;\n",
       "    }\n",
       "</style>\n",
       "<table border=\"1\" class=\"dataframe\">\n",
       "  <thead>\n",
       "    <tr style=\"text-align: right;\">\n",
       "      <th></th>\n",
       "      <th>Wifi Service Count</th>\n",
       "      <th>Entertainment Count</th>\n",
       "      <th>Dining Service Count</th>\n",
       "    </tr>\n",
       "  </thead>\n",
       "  <tbody>\n",
       "    <tr>\n",
       "      <th>A little important</th>\n",
       "      <td>29383</td>\n",
       "      <td>20009</td>\n",
       "      <td>24763</td>\n",
       "    </tr>\n",
       "    <tr>\n",
       "      <th>Extremely important</th>\n",
       "      <td>13031</td>\n",
       "      <td>28625</td>\n",
       "      <td>25149</td>\n",
       "    </tr>\n",
       "    <tr>\n",
       "      <th>Not at all important</th>\n",
       "      <td>20236</td>\n",
       "      <td>14205</td>\n",
       "      <td>14468</td>\n",
       "    </tr>\n",
       "    <tr>\n",
       "      <th>Somewhat important</th>\n",
       "      <td>29101</td>\n",
       "      <td>21627</td>\n",
       "      <td>25037</td>\n",
       "    </tr>\n",
       "    <tr>\n",
       "      <th>Very important</th>\n",
       "      <td>22503</td>\n",
       "      <td>33367</td>\n",
       "      <td>27520</td>\n",
       "    </tr>\n",
       "  </tbody>\n",
       "</table>\n",
       "</div>"
      ],
      "text/plain": [
       "                      Wifi Service Count  Entertainment Count  \\\n",
       "A little important                 29383                20009   \n",
       "Extremely important                13031                28625   \n",
       "Not at all important               20236                14205   \n",
       "Somewhat important                 29101                21627   \n",
       "Very important                     22503                33367   \n",
       "\n",
       "                      Dining Service Count  \n",
       "A little important                   24763  \n",
       "Extremely important                  25149  \n",
       "Not at all important                 14468  \n",
       "Somewhat important                   25037  \n",
       "Very important                       27520  "
      ]
     },
     "execution_count": 11,
     "metadata": {},
     "output_type": "execute_result"
    }
   ],
   "source": [
    "# Summarise the values for some columns in pre-trip data\n",
    "scale_summary = pd.concat([cruise_pre_df.groupby('Onboard Wifi Service').size(),\n",
    "                        cruise_pre_df.groupby('Onboard Entertainment').size(),\n",
    "                        cruise_pre_df.groupby('Onboard Dining Service').size()],\n",
    "                        axis=1,\n",
    "                        keys=['Wifi Service Count', 'Entertainment Count', 'Dining Service Count'])\n",
    "scale_summary"
   ]
  },
  {
   "cell_type": "code",
   "execution_count": 12,
   "id": "d593def7",
   "metadata": {},
   "outputs": [
    {
     "data": {
      "text/plain": [
       "Ticket Type\n",
       "Deluxe       8260\n",
       "Luxury      54414\n",
       "Standard    51011\n",
       "dtype: int64"
      ]
     },
     "execution_count": 12,
     "metadata": {},
     "output_type": "execute_result"
    }
   ],
   "source": [
    "# Summarise values in Ticket Type in post-trip data\n",
    "cruise_post_df.groupby('Ticket Type').size()"
   ]
  },
  {
   "cell_type": "markdown",
   "id": "c4e0f662",
   "metadata": {},
   "source": [
    "## Findings\n",
    "These findings are made based on the investigations in the previous segments."
   ]
  },
  {
   "cell_type": "markdown",
   "id": "7c0ff99d",
   "metadata": {},
   "source": [
    "### Pre-purchase survey\n",
    "Description\n",
    "- This is a pre-purchase survey conducted to give ShipSail insights into what ameneties/services their customers prefer, or what is considered important to them for an enjoyable cruise journey.\n",
    "\n",
    "**Missing values, or NaN fields**\n",
    "- Spread of missing data is very even across all feature columns\n",
    "- Missing data from each column is generally small, roughly 20% to 30% (visually)\n",
    "- Imputation will be used to replace missing values\n",
    "\n",
    "**Inconsistent label format**\n",
    "- For example, `Onboard Wifi Service` has a categorical label while `Ease of Online booking` has a numerical label, both being a preferance rating\n",
    "- Inconsistent format makes data plotting across these variables difficult\n",
    "- Based on the unique values, the categorically labelled fields are in order, can be easily mapped to their corresponding numerical value, as per the scale given in AIAP15 instructions\n",
    "- Encode all categorical labels into corresponding numerical label of 1.0 to 5.0\n",
    "\n",
    "**Incorrect ratings**\n",
    "- Some ratings are 0, which is invalid\n",
    "\n",
    "\n"
   ]
  },
  {
   "cell_type": "code",
   "execution_count": 13,
   "id": "73fbe97f",
   "metadata": {},
   "outputs": [
    {
     "data": {
      "text/html": [
       "<div>\n",
       "<style scoped>\n",
       "    .dataframe tbody tr th:only-of-type {\n",
       "        vertical-align: middle;\n",
       "    }\n",
       "\n",
       "    .dataframe tbody tr th {\n",
       "        vertical-align: top;\n",
       "    }\n",
       "\n",
       "    .dataframe thead th {\n",
       "        text-align: right;\n",
       "    }\n",
       "</style>\n",
       "<table border=\"1\" class=\"dataframe\">\n",
       "  <thead>\n",
       "    <tr style=\"text-align: right;\">\n",
       "      <th></th>\n",
       "      <th>Gender</th>\n",
       "      <th>Date of Birth</th>\n",
       "      <th>Source of Traffic</th>\n",
       "      <th>Onboard Wifi Service</th>\n",
       "      <th>Embarkation/Disembarkation time convenient</th>\n",
       "      <th>Ease of Online booking</th>\n",
       "      <th>Gate location</th>\n",
       "      <th>Logging</th>\n",
       "      <th>Onboard Dining Service</th>\n",
       "      <th>Online Check-in</th>\n",
       "      <th>Cabin Comfort</th>\n",
       "      <th>Onboard Entertainment</th>\n",
       "      <th>Cabin service</th>\n",
       "      <th>Baggage handling</th>\n",
       "      <th>Port Check-in Service</th>\n",
       "      <th>Onboard Service</th>\n",
       "      <th>Cleanliness</th>\n",
       "      <th>Ext_Intcode</th>\n",
       "    </tr>\n",
       "    <tr>\n",
       "      <th>index</th>\n",
       "      <th></th>\n",
       "      <th></th>\n",
       "      <th></th>\n",
       "      <th></th>\n",
       "      <th></th>\n",
       "      <th></th>\n",
       "      <th></th>\n",
       "      <th></th>\n",
       "      <th></th>\n",
       "      <th></th>\n",
       "      <th></th>\n",
       "      <th></th>\n",
       "      <th></th>\n",
       "      <th></th>\n",
       "      <th></th>\n",
       "      <th></th>\n",
       "      <th></th>\n",
       "      <th></th>\n",
       "    </tr>\n",
       "  </thead>\n",
       "  <tbody>\n",
       "    <tr>\n",
       "      <th>0</th>\n",
       "      <td>None</td>\n",
       "      <td>05/10/1973</td>\n",
       "      <td>Direct - Company Website</td>\n",
       "      <td>A little important</td>\n",
       "      <td>3.0</td>\n",
       "      <td>5.0</td>\n",
       "      <td>3.0</td>\n",
       "      <td>01/01/2023 0:00</td>\n",
       "      <td>Very important</td>\n",
       "      <td>2.0</td>\n",
       "      <td>2.0</td>\n",
       "      <td>A little important</td>\n",
       "      <td>2.0</td>\n",
       "      <td>2.0</td>\n",
       "      <td>4.0</td>\n",
       "      <td>2.0</td>\n",
       "      <td>3.0</td>\n",
       "      <td>LB446RWOOZI</td>\n",
       "    </tr>\n",
       "    <tr>\n",
       "      <th>1</th>\n",
       "      <td>Female</td>\n",
       "      <td>None</td>\n",
       "      <td>Indirect - Social Media</td>\n",
       "      <td>Not at all important</td>\n",
       "      <td>4.0</td>\n",
       "      <td>1.0</td>\n",
       "      <td>NaN</td>\n",
       "      <td>01/01/2023 0:01</td>\n",
       "      <td>Very important</td>\n",
       "      <td>NaN</td>\n",
       "      <td>4.0</td>\n",
       "      <td>None</td>\n",
       "      <td>2.0</td>\n",
       "      <td>3.0</td>\n",
       "      <td>4.0</td>\n",
       "      <td>4.0</td>\n",
       "      <td>4.0</td>\n",
       "      <td>LB138HKBECM</td>\n",
       "    </tr>\n",
       "    <tr>\n",
       "      <th>2</th>\n",
       "      <td>Female</td>\n",
       "      <td>22/07/1998</td>\n",
       "      <td>Indirect - Search Engine</td>\n",
       "      <td>None</td>\n",
       "      <td>3.0</td>\n",
       "      <td>0.0</td>\n",
       "      <td>5.0</td>\n",
       "      <td>01/01/2023 0:02</td>\n",
       "      <td>None</td>\n",
       "      <td>NaN</td>\n",
       "      <td>5.0</td>\n",
       "      <td>Extremely important</td>\n",
       "      <td>2.0</td>\n",
       "      <td>1.0</td>\n",
       "      <td>2.0</td>\n",
       "      <td>3.0</td>\n",
       "      <td>NaN</td>\n",
       "      <td>BL713UHBAAN</td>\n",
       "    </tr>\n",
       "    <tr>\n",
       "      <th>3</th>\n",
       "      <td>Female</td>\n",
       "      <td>01/05/1970</td>\n",
       "      <td>Direct - Company Website</td>\n",
       "      <td>Very important</td>\n",
       "      <td>4.0</td>\n",
       "      <td>4.0</td>\n",
       "      <td>4.0</td>\n",
       "      <td>01/01/2023 0:05</td>\n",
       "      <td>Somewhat important</td>\n",
       "      <td>4.0</td>\n",
       "      <td>4.0</td>\n",
       "      <td>None</td>\n",
       "      <td>NaN</td>\n",
       "      <td>NaN</td>\n",
       "      <td>3.0</td>\n",
       "      <td>2.0</td>\n",
       "      <td>4.0</td>\n",
       "      <td>LB243DMKCFL</td>\n",
       "    </tr>\n",
       "    <tr>\n",
       "      <th>4</th>\n",
       "      <td>Male</td>\n",
       "      <td>07/01/1960</td>\n",
       "      <td>Direct - Company Website</td>\n",
       "      <td>Somewhat important</td>\n",
       "      <td>4.0</td>\n",
       "      <td>2.0</td>\n",
       "      <td>NaN</td>\n",
       "      <td>01/01/2023 0:06</td>\n",
       "      <td>Not at all important</td>\n",
       "      <td>2.0</td>\n",
       "      <td>NaN</td>\n",
       "      <td>Not at all important</td>\n",
       "      <td>3.0</td>\n",
       "      <td>NaN</td>\n",
       "      <td>5.0</td>\n",
       "      <td>2.0</td>\n",
       "      <td>NaN</td>\n",
       "      <td>LB218CFLOBS</td>\n",
       "    </tr>\n",
       "  </tbody>\n",
       "</table>\n",
       "</div>"
      ],
      "text/plain": [
       "       Gender Date of Birth         Source of Traffic  Onboard Wifi Service  \\\n",
       "index                                                                         \n",
       "0        None    05/10/1973  Direct - Company Website    A little important   \n",
       "1      Female          None   Indirect - Social Media  Not at all important   \n",
       "2      Female    22/07/1998  Indirect - Search Engine                  None   \n",
       "3      Female    01/05/1970  Direct - Company Website        Very important   \n",
       "4        Male    07/01/1960  Direct - Company Website    Somewhat important   \n",
       "\n",
       "       Embarkation/Disembarkation time convenient  Ease of Online booking  \\\n",
       "index                                                                       \n",
       "0                                             3.0                     5.0   \n",
       "1                                             4.0                     1.0   \n",
       "2                                             3.0                     0.0   \n",
       "3                                             4.0                     4.0   \n",
       "4                                             4.0                     2.0   \n",
       "\n",
       "       Gate location          Logging Onboard Dining Service  Online Check-in  \\\n",
       "index                                                                           \n",
       "0                3.0  01/01/2023 0:00         Very important              2.0   \n",
       "1                NaN  01/01/2023 0:01         Very important              NaN   \n",
       "2                5.0  01/01/2023 0:02                   None              NaN   \n",
       "3                4.0  01/01/2023 0:05     Somewhat important              4.0   \n",
       "4                NaN  01/01/2023 0:06   Not at all important              2.0   \n",
       "\n",
       "       Cabin Comfort Onboard Entertainment  Cabin service  Baggage handling  \\\n",
       "index                                                                         \n",
       "0                2.0    A little important            2.0               2.0   \n",
       "1                4.0                  None            2.0               3.0   \n",
       "2                5.0   Extremely important            2.0               1.0   \n",
       "3                4.0                  None            NaN               NaN   \n",
       "4                NaN  Not at all important            3.0               NaN   \n",
       "\n",
       "       Port Check-in Service  Onboard Service  Cleanliness  Ext_Intcode  \n",
       "index                                                                    \n",
       "0                        4.0              2.0          3.0  LB446RWOOZI  \n",
       "1                        4.0              4.0          4.0  LB138HKBECM  \n",
       "2                        2.0              3.0          NaN  BL713UHBAAN  \n",
       "3                        3.0              2.0          4.0  LB243DMKCFL  \n",
       "4                        5.0              2.0          NaN  LB218CFLOBS  "
      ]
     },
     "execution_count": 13,
     "metadata": {},
     "output_type": "execute_result"
    }
   ],
   "source": [
    "# Display part of cruise pre dataset\n",
    "cruise_pre_df.head()"
   ]
  },
  {
   "cell_type": "markdown",
   "id": "fe4c6fe1",
   "metadata": {},
   "source": [
    "### Post-cruise Customer Data\n",
    "Description:\n",
    "- This is the post trip data, which contains the target variable 'Ticket Type' we are trying to predict.\n",
    "\n",
    "**Missing values, or NaN fields in Ticket Type**\n",
    "- About 15% missing values\n",
    "- Imputation is not recommended for the target variable, as it can introduce bias, incorrect or misleading information.\n",
    "- These rows will be dropped for this project.\n",
    "\n",
    "**Unique values in Ticket Type**\n",
    "- Deluxe (8260), Luxury (54414), Standard (51011)"
   ]
  },
  {
   "cell_type": "code",
   "execution_count": 14,
   "id": "e17cf1e3",
   "metadata": {},
   "outputs": [
    {
     "data": {
      "text/html": [
       "<div>\n",
       "<style scoped>\n",
       "    .dataframe tbody tr th:only-of-type {\n",
       "        vertical-align: middle;\n",
       "    }\n",
       "\n",
       "    .dataframe tbody tr th {\n",
       "        vertical-align: top;\n",
       "    }\n",
       "\n",
       "    .dataframe thead th {\n",
       "        text-align: right;\n",
       "    }\n",
       "</style>\n",
       "<table border=\"1\" class=\"dataframe\">\n",
       "  <thead>\n",
       "    <tr style=\"text-align: right;\">\n",
       "      <th></th>\n",
       "      <th>Cruise Name</th>\n",
       "      <th>Ticket Type</th>\n",
       "      <th>Cruise Distance</th>\n",
       "      <th>Ext_Intcode</th>\n",
       "      <th>WiFi</th>\n",
       "      <th>Dining</th>\n",
       "      <th>Entertainment</th>\n",
       "    </tr>\n",
       "    <tr>\n",
       "      <th>index</th>\n",
       "      <th></th>\n",
       "      <th></th>\n",
       "      <th></th>\n",
       "      <th></th>\n",
       "      <th></th>\n",
       "      <th></th>\n",
       "      <th></th>\n",
       "    </tr>\n",
       "  </thead>\n",
       "  <tbody>\n",
       "    <tr>\n",
       "      <th>0</th>\n",
       "      <td>Blastoise</td>\n",
       "      <td>None</td>\n",
       "      <td>3567 KM</td>\n",
       "      <td>LB446RWOOZI</td>\n",
       "      <td>1.0</td>\n",
       "      <td>1</td>\n",
       "      <td>1.0</td>\n",
       "    </tr>\n",
       "    <tr>\n",
       "      <th>1</th>\n",
       "      <td>Blastoise</td>\n",
       "      <td>Deluxe</td>\n",
       "      <td>672 KM</td>\n",
       "      <td>LB138HKBECM</td>\n",
       "      <td>NaN</td>\n",
       "      <td>0</td>\n",
       "      <td>1.0</td>\n",
       "    </tr>\n",
       "    <tr>\n",
       "      <th>2</th>\n",
       "      <td>IAPRAS</td>\n",
       "      <td>Deluxe</td>\n",
       "      <td>1167 KM</td>\n",
       "      <td>BL713UHBAAN</td>\n",
       "      <td>NaN</td>\n",
       "      <td>0</td>\n",
       "      <td>0.0</td>\n",
       "    </tr>\n",
       "    <tr>\n",
       "      <th>3</th>\n",
       "      <td>Lapras</td>\n",
       "      <td>Deluxe</td>\n",
       "      <td>280 KM</td>\n",
       "      <td>LB243DMKCFL</td>\n",
       "      <td>NaN</td>\n",
       "      <td>0</td>\n",
       "      <td>1.0</td>\n",
       "    </tr>\n",
       "    <tr>\n",
       "      <th>4</th>\n",
       "      <td>Lapras</td>\n",
       "      <td>Standard</td>\n",
       "      <td>1145 Miles</td>\n",
       "      <td>LB218CFLOBS</td>\n",
       "      <td>NaN</td>\n",
       "      <td>1</td>\n",
       "      <td>NaN</td>\n",
       "    </tr>\n",
       "  </tbody>\n",
       "</table>\n",
       "</div>"
      ],
      "text/plain": [
       "      Cruise Name Ticket Type Cruise Distance  Ext_Intcode  WiFi  Dining  \\\n",
       "index                                                                      \n",
       "0       Blastoise        None         3567 KM  LB446RWOOZI   1.0       1   \n",
       "1       Blastoise      Deluxe          672 KM  LB138HKBECM   NaN       0   \n",
       "2          IAPRAS      Deluxe         1167 KM  BL713UHBAAN   NaN       0   \n",
       "3          Lapras      Deluxe          280 KM  LB243DMKCFL   NaN       0   \n",
       "4          Lapras    Standard      1145 Miles  LB218CFLOBS   NaN       1   \n",
       "\n",
       "       Entertainment  \n",
       "index                 \n",
       "0                1.0  \n",
       "1                1.0  \n",
       "2                0.0  \n",
       "3                1.0  \n",
       "4                NaN  "
      ]
     },
     "execution_count": 14,
     "metadata": {},
     "output_type": "execute_result"
    }
   ],
   "source": [
    "# Display part of cruise post dataset\n",
    "cruise_post_df.head()"
   ]
  },
  {
   "cell_type": "markdown",
   "id": "573b2362",
   "metadata": {},
   "source": [
    "# Data Preprocessing\n",
    "**Purpose:**\n",
    "- Process the raw data to make it suitable for further analysis or modelling, by handling missing values, encoding categorical variables, and perform other necessary transformations"
   ]
  },
  {
   "cell_type": "markdown",
   "id": "3dd766cb",
   "metadata": {},
   "source": [
    "## Merging both datasets\n",
    "**Purpose:** \n",
    "- combining pre-cruise survey data and post-cruise data creates a more comprehensive and unifed dataset, allowing analysis of the relationship between both sets\n",
    "- it also creates a direct link between the pre-cruise survey responses (features) and the ticket tier column (target variable) from post-cruise data"
   ]
  },
  {
   "cell_type": "code",
   "execution_count": 15,
   "id": "fb8525dc",
   "metadata": {},
   "outputs": [
    {
     "data": {
      "text/html": [
       "<div>\n",
       "<style scoped>\n",
       "    .dataframe tbody tr th:only-of-type {\n",
       "        vertical-align: middle;\n",
       "    }\n",
       "\n",
       "    .dataframe tbody tr th {\n",
       "        vertical-align: top;\n",
       "    }\n",
       "\n",
       "    .dataframe thead th {\n",
       "        text-align: right;\n",
       "    }\n",
       "</style>\n",
       "<table border=\"1\" class=\"dataframe\">\n",
       "  <thead>\n",
       "    <tr style=\"text-align: right;\">\n",
       "      <th></th>\n",
       "      <th>Gender</th>\n",
       "      <th>Date of Birth</th>\n",
       "      <th>Source of Traffic</th>\n",
       "      <th>Onboard Wifi Service</th>\n",
       "      <th>Embarkation/Disembarkation time convenient</th>\n",
       "      <th>Ease of Online booking</th>\n",
       "      <th>Gate location</th>\n",
       "      <th>Logging</th>\n",
       "      <th>Onboard Dining Service</th>\n",
       "      <th>Online Check-in</th>\n",
       "      <th>...</th>\n",
       "      <th>Port Check-in Service</th>\n",
       "      <th>Onboard Service</th>\n",
       "      <th>Cleanliness</th>\n",
       "      <th>Ext_Intcode</th>\n",
       "      <th>Cruise Name</th>\n",
       "      <th>Ticket Type</th>\n",
       "      <th>Cruise Distance</th>\n",
       "      <th>WiFi</th>\n",
       "      <th>Dining</th>\n",
       "      <th>Entertainment</th>\n",
       "    </tr>\n",
       "  </thead>\n",
       "  <tbody>\n",
       "    <tr>\n",
       "      <th>0</th>\n",
       "      <td>None</td>\n",
       "      <td>05/10/1973</td>\n",
       "      <td>Direct - Company Website</td>\n",
       "      <td>A little important</td>\n",
       "      <td>3.0</td>\n",
       "      <td>5.0</td>\n",
       "      <td>3.0</td>\n",
       "      <td>01/01/2023 0:00</td>\n",
       "      <td>Very important</td>\n",
       "      <td>2.0</td>\n",
       "      <td>...</td>\n",
       "      <td>4.0</td>\n",
       "      <td>2.0</td>\n",
       "      <td>3.0</td>\n",
       "      <td>LB446RWOOZI</td>\n",
       "      <td>Blastoise</td>\n",
       "      <td>None</td>\n",
       "      <td>3567 KM</td>\n",
       "      <td>1.0</td>\n",
       "      <td>1</td>\n",
       "      <td>1.0</td>\n",
       "    </tr>\n",
       "    <tr>\n",
       "      <th>1</th>\n",
       "      <td>Female</td>\n",
       "      <td>None</td>\n",
       "      <td>Indirect - Social Media</td>\n",
       "      <td>Not at all important</td>\n",
       "      <td>4.0</td>\n",
       "      <td>1.0</td>\n",
       "      <td>NaN</td>\n",
       "      <td>01/01/2023 0:01</td>\n",
       "      <td>Very important</td>\n",
       "      <td>NaN</td>\n",
       "      <td>...</td>\n",
       "      <td>4.0</td>\n",
       "      <td>4.0</td>\n",
       "      <td>4.0</td>\n",
       "      <td>LB138HKBECM</td>\n",
       "      <td>Blastoise</td>\n",
       "      <td>Deluxe</td>\n",
       "      <td>672 KM</td>\n",
       "      <td>NaN</td>\n",
       "      <td>0</td>\n",
       "      <td>1.0</td>\n",
       "    </tr>\n",
       "    <tr>\n",
       "      <th>2</th>\n",
       "      <td>Female</td>\n",
       "      <td>22/07/1998</td>\n",
       "      <td>Indirect - Search Engine</td>\n",
       "      <td>None</td>\n",
       "      <td>3.0</td>\n",
       "      <td>0.0</td>\n",
       "      <td>5.0</td>\n",
       "      <td>01/01/2023 0:02</td>\n",
       "      <td>None</td>\n",
       "      <td>NaN</td>\n",
       "      <td>...</td>\n",
       "      <td>2.0</td>\n",
       "      <td>3.0</td>\n",
       "      <td>NaN</td>\n",
       "      <td>BL713UHBAAN</td>\n",
       "      <td>IAPRAS</td>\n",
       "      <td>Deluxe</td>\n",
       "      <td>1167 KM</td>\n",
       "      <td>NaN</td>\n",
       "      <td>0</td>\n",
       "      <td>0.0</td>\n",
       "    </tr>\n",
       "  </tbody>\n",
       "</table>\n",
       "<p>3 rows × 24 columns</p>\n",
       "</div>"
      ],
      "text/plain": [
       "   Gender Date of Birth         Source of Traffic  Onboard Wifi Service  \\\n",
       "0    None    05/10/1973  Direct - Company Website    A little important   \n",
       "1  Female          None   Indirect - Social Media  Not at all important   \n",
       "2  Female    22/07/1998  Indirect - Search Engine                  None   \n",
       "\n",
       "   Embarkation/Disembarkation time convenient  Ease of Online booking  \\\n",
       "0                                         3.0                     5.0   \n",
       "1                                         4.0                     1.0   \n",
       "2                                         3.0                     0.0   \n",
       "\n",
       "   Gate location          Logging Onboard Dining Service  Online Check-in  \\\n",
       "0            3.0  01/01/2023 0:00         Very important              2.0   \n",
       "1            NaN  01/01/2023 0:01         Very important              NaN   \n",
       "2            5.0  01/01/2023 0:02                   None              NaN   \n",
       "\n",
       "   ...  Port Check-in Service Onboard Service  Cleanliness  Ext_Intcode  \\\n",
       "0  ...                    4.0             2.0          3.0  LB446RWOOZI   \n",
       "1  ...                    4.0             4.0          4.0  LB138HKBECM   \n",
       "2  ...                    2.0             3.0          NaN  BL713UHBAAN   \n",
       "\n",
       "   Cruise Name  Ticket Type  Cruise Distance WiFi Dining Entertainment  \n",
       "0    Blastoise         None          3567 KM  1.0      1           1.0  \n",
       "1    Blastoise       Deluxe           672 KM  NaN      0           1.0  \n",
       "2       IAPRAS       Deluxe          1167 KM  NaN      0           0.0  \n",
       "\n",
       "[3 rows x 24 columns]"
      ]
     },
     "execution_count": 15,
     "metadata": {},
     "output_type": "execute_result"
    }
   ],
   "source": [
    "# Create a new variable that holds the merged set of Dataset 1 and 2\n",
    "\n",
    "merged_data = cruise_pre_df.merge(cruise_post_df, left_on='Ext_Intcode', right_on='Ext_Intcode')\n",
    "\n",
    "# Display part of the new merged dataset\n",
    "merged_data.head(3)"
   ]
  },
  {
   "cell_type": "markdown",
   "id": "9e8db1c2",
   "metadata": {},
   "source": [
    "## Standardising values for survey questions\n",
    "\n",
    "**Purpose:**\n",
    "1. inconsistent format makes data plotting across these variables difficult\n",
    "2. machine learning algorithms require numeric input variables\n",
    "\n",
    "3 Scale Columns are categorically labelled: \n",
    "1. `Onboard Wifi Service`\n",
    "2. `Onboard Entertainment`\n",
    "3. `Onboard Dining Service`\n",
    "\n",
    "**Conclusion:**\n",
    "- All feature columns will be consistent\n"
   ]
  },
  {
   "cell_type": "code",
   "execution_count": 16,
   "id": "b6468b52",
   "metadata": {},
   "outputs": [],
   "source": [
    "# Based on the findings, there are no misspelling or outliers to be handled\n",
    "\n",
    "# Define a string-to-value map to help encode these columns\n",
    "scale_map = {'Not at all important':1.0,\n",
    "                'A little important':2.0,\n",
    "                'Somewhat important':3.0,\n",
    "                'Very important': 4.0,\n",
    "                'Extremely important':5.0}\n",
    "\n",
    "# Store columns to encode\n",
    "encode_columns = ['Onboard Wifi Service', 'Onboard Entertainment', 'Onboard Dining Service']\n",
    "\n",
    "# Iterate encoding for each column\n",
    "for column in encode_columns:\n",
    "    merged_data[column] = merged_data[column].map(scale_map)"
   ]
  },
  {
   "cell_type": "code",
   "execution_count": 17,
   "id": "ad57790e",
   "metadata": {},
   "outputs": [
    {
     "data": {
      "text/html": [
       "<div>\n",
       "<style scoped>\n",
       "    .dataframe tbody tr th:only-of-type {\n",
       "        vertical-align: middle;\n",
       "    }\n",
       "\n",
       "    .dataframe tbody tr th {\n",
       "        vertical-align: top;\n",
       "    }\n",
       "\n",
       "    .dataframe thead th {\n",
       "        text-align: right;\n",
       "    }\n",
       "</style>\n",
       "<table border=\"1\" class=\"dataframe\">\n",
       "  <thead>\n",
       "    <tr style=\"text-align: right;\">\n",
       "      <th></th>\n",
       "      <th>Gender</th>\n",
       "      <th>Date of Birth</th>\n",
       "      <th>Source of Traffic</th>\n",
       "      <th>Onboard Wifi Service</th>\n",
       "      <th>Embarkation/Disembarkation time convenient</th>\n",
       "      <th>Ease of Online booking</th>\n",
       "      <th>Gate location</th>\n",
       "      <th>Logging</th>\n",
       "      <th>Onboard Dining Service</th>\n",
       "      <th>Online Check-in</th>\n",
       "      <th>...</th>\n",
       "      <th>Port Check-in Service</th>\n",
       "      <th>Onboard Service</th>\n",
       "      <th>Cleanliness</th>\n",
       "      <th>Ext_Intcode</th>\n",
       "      <th>Cruise Name</th>\n",
       "      <th>Ticket Type</th>\n",
       "      <th>Cruise Distance</th>\n",
       "      <th>WiFi</th>\n",
       "      <th>Dining</th>\n",
       "      <th>Entertainment</th>\n",
       "    </tr>\n",
       "  </thead>\n",
       "  <tbody>\n",
       "    <tr>\n",
       "      <th>0</th>\n",
       "      <td>None</td>\n",
       "      <td>05/10/1973</td>\n",
       "      <td>Direct - Company Website</td>\n",
       "      <td>2.0</td>\n",
       "      <td>3.0</td>\n",
       "      <td>5.0</td>\n",
       "      <td>3.0</td>\n",
       "      <td>01/01/2023 0:00</td>\n",
       "      <td>4.0</td>\n",
       "      <td>2.0</td>\n",
       "      <td>...</td>\n",
       "      <td>4.0</td>\n",
       "      <td>2.0</td>\n",
       "      <td>3.0</td>\n",
       "      <td>LB446RWOOZI</td>\n",
       "      <td>Blastoise</td>\n",
       "      <td>None</td>\n",
       "      <td>3567 KM</td>\n",
       "      <td>1.0</td>\n",
       "      <td>1</td>\n",
       "      <td>1.0</td>\n",
       "    </tr>\n",
       "    <tr>\n",
       "      <th>1</th>\n",
       "      <td>Female</td>\n",
       "      <td>None</td>\n",
       "      <td>Indirect - Social Media</td>\n",
       "      <td>1.0</td>\n",
       "      <td>4.0</td>\n",
       "      <td>1.0</td>\n",
       "      <td>NaN</td>\n",
       "      <td>01/01/2023 0:01</td>\n",
       "      <td>4.0</td>\n",
       "      <td>NaN</td>\n",
       "      <td>...</td>\n",
       "      <td>4.0</td>\n",
       "      <td>4.0</td>\n",
       "      <td>4.0</td>\n",
       "      <td>LB138HKBECM</td>\n",
       "      <td>Blastoise</td>\n",
       "      <td>Deluxe</td>\n",
       "      <td>672 KM</td>\n",
       "      <td>NaN</td>\n",
       "      <td>0</td>\n",
       "      <td>1.0</td>\n",
       "    </tr>\n",
       "    <tr>\n",
       "      <th>2</th>\n",
       "      <td>Female</td>\n",
       "      <td>22/07/1998</td>\n",
       "      <td>Indirect - Search Engine</td>\n",
       "      <td>NaN</td>\n",
       "      <td>3.0</td>\n",
       "      <td>0.0</td>\n",
       "      <td>5.0</td>\n",
       "      <td>01/01/2023 0:02</td>\n",
       "      <td>NaN</td>\n",
       "      <td>NaN</td>\n",
       "      <td>...</td>\n",
       "      <td>2.0</td>\n",
       "      <td>3.0</td>\n",
       "      <td>NaN</td>\n",
       "      <td>BL713UHBAAN</td>\n",
       "      <td>IAPRAS</td>\n",
       "      <td>Deluxe</td>\n",
       "      <td>1167 KM</td>\n",
       "      <td>NaN</td>\n",
       "      <td>0</td>\n",
       "      <td>0.0</td>\n",
       "    </tr>\n",
       "  </tbody>\n",
       "</table>\n",
       "<p>3 rows × 24 columns</p>\n",
       "</div>"
      ],
      "text/plain": [
       "   Gender Date of Birth         Source of Traffic  Onboard Wifi Service  \\\n",
       "0    None    05/10/1973  Direct - Company Website                   2.0   \n",
       "1  Female          None   Indirect - Social Media                   1.0   \n",
       "2  Female    22/07/1998  Indirect - Search Engine                   NaN   \n",
       "\n",
       "   Embarkation/Disembarkation time convenient  Ease of Online booking  \\\n",
       "0                                         3.0                     5.0   \n",
       "1                                         4.0                     1.0   \n",
       "2                                         3.0                     0.0   \n",
       "\n",
       "   Gate location          Logging  Onboard Dining Service  Online Check-in  \\\n",
       "0            3.0  01/01/2023 0:00                     4.0              2.0   \n",
       "1            NaN  01/01/2023 0:01                     4.0              NaN   \n",
       "2            5.0  01/01/2023 0:02                     NaN              NaN   \n",
       "\n",
       "   ...  Port Check-in Service  Onboard Service  Cleanliness  Ext_Intcode  \\\n",
       "0  ...                    4.0              2.0          3.0  LB446RWOOZI   \n",
       "1  ...                    4.0              4.0          4.0  LB138HKBECM   \n",
       "2  ...                    2.0              3.0          NaN  BL713UHBAAN   \n",
       "\n",
       "   Cruise Name  Ticket Type  Cruise Distance WiFi Dining Entertainment  \n",
       "0    Blastoise         None          3567 KM  1.0      1           1.0  \n",
       "1    Blastoise       Deluxe           672 KM  NaN      0           1.0  \n",
       "2       IAPRAS       Deluxe          1167 KM  NaN      0           0.0  \n",
       "\n",
       "[3 rows x 24 columns]"
      ]
     },
     "execution_count": 17,
     "metadata": {},
     "output_type": "execute_result"
    }
   ],
   "source": [
    "# Show part of the resulting dataframe\n",
    "merged_data.head(3)"
   ]
  },
  {
   "cell_type": "markdown",
   "id": "5e256b8b",
   "metadata": {},
   "source": [
    "## Standardising `Cruise Name`\n",
    "\n",
    "Running the line of code below, these are the values found:\n",
    "1. \"Blastoise\"\n",
    "2. \"IAPRAS\"\n",
    "3. \"Lapras\"\n",
    "4. \"blast\"\n",
    "5. \"blast0ise\"\n",
    "6. \"blastoise\"\n",
    "7. \"blastoise\"\n",
    "8. \"lap\"\n",
    "9. \"lapras\"\n",
    "\n",
    "There are only 2 cruises, and the correct spellings are:\n",
    "1. \"Blastoise\"\n",
    "2. \"Lapras\""
   ]
  },
  {
   "cell_type": "code",
   "execution_count": 18,
   "id": "6462ae4e",
   "metadata": {},
   "outputs": [
    {
     "data": {
      "text/plain": [
       "Cruise Name\n",
       "Blastoise    73209\n",
       "IAPRAS        3043\n",
       "Lapras       32823\n",
       "blast         3226\n",
       "blast0ise     3070\n",
       "blastoise     3073\n",
       "lap           3068\n",
       "lapras        3125\n",
       "dtype: int64"
      ]
     },
     "execution_count": 18,
     "metadata": {},
     "output_type": "execute_result"
    }
   ],
   "source": [
    "# Find unique values in Cruise Name\n",
    "merged_data.groupby('Cruise Name').size()"
   ]
  },
  {
   "cell_type": "code",
   "execution_count": 19,
   "id": "8a0b984f",
   "metadata": {},
   "outputs": [],
   "source": [
    "# Define function to replace misspellings with correct spelling\n",
    "def correct_spelling(cruise_name):\n",
    "    # Define a list to store misspellings\n",
    "    blastoise_misspell = ['blast', 'blast0ise', 'blastoise']\n",
    "    lapras_misspell = ['IAPRAS', 'lap', 'lapras']\n",
    "\n",
    "    if cruise_name in blastoise_misspell:\n",
    "        return 'Blastoise'\n",
    "    elif cruise_name in lapras_misspell:\n",
    "        return 'Lapras'\n",
    "    else:\n",
    "        return cruise_name  # Return the original name if not a misspelling\n",
    "\n",
    "# Apply function to 'Cruise Name' column\n",
    "merged_data['Cruise Name'] = merged_data['Cruise Name'].apply(correct_spelling)"
   ]
  },
  {
   "cell_type": "markdown",
   "id": "0c67f7fa",
   "metadata": {},
   "source": [
    "## Standardising `Cruise Distance`\n",
    "**Purpose:**\n",
    "- To fix incorrect values under cruise distance column\n",
    "- Some distance are in different units and/or negative\n",
    "\n",
    "**Proposal:**\n",
    "- Standardise unit to KM\n",
    "- Apply absolute function to negative distances"
   ]
  },
  {
   "cell_type": "code",
   "execution_count": 20,
   "id": "46f6ab27",
   "metadata": {},
   "outputs": [
    {
     "data": {
      "text/plain": [
       "Cruise Distance\n",
       "-100 KM         2\n",
       "-1004 KM        1\n",
       "-1005 KM       10\n",
       "-1005 Miles     2\n",
       "-1008 KM        4\n",
       "               ..\n",
       "997 Miles      10\n",
       "998 KM         43\n",
       "998 Miles       4\n",
       "999 KM         32\n",
       "999 Miles       2\n",
       "Length: 8995, dtype: int64"
      ]
     },
     "execution_count": 20,
     "metadata": {},
     "output_type": "execute_result"
    }
   ],
   "source": [
    "merged_data.groupby('Cruise Distance').size()"
   ]
  },
  {
   "cell_type": "code",
   "execution_count": 21,
   "id": "2c63a5f5",
   "metadata": {},
   "outputs": [],
   "source": [
    "import re\n",
    "\n",
    "# Assuming cruise_distance_series is your Series\n",
    "\n",
    "def convert_to_km(distance):\n",
    "    numbers = re.findall(r'\\d+', distance)\n",
    "    if numbers:\n",
    "        if 'Miles' in distance:\n",
    "            return int(numbers[0]) * 1.60934  # Convert miles to kilometers\n",
    "        else:\n",
    "            return int(numbers[0])\n",
    "\n",
    "# Apply the conversion function to each element in the Series\n",
    "# merged_data['Cruise Distance'] = merged_data['Cruise Distance'].apply(lambda x: convert_to_km(x) if '-' not in x else abs(convert_to_km(x)))\n",
    "merged_data['Cruise Distance'] = merged_data['Cruise Distance'].apply(lambda x: convert_to_km(x) if x else None)\n",
    "\n",
    "# Convert the Series back to numeric type\n",
    "merged_data['Cruise Distance'] = pd.to_numeric(merged_data['Cruise Distance'])\n",
    "\n",
    "# Now, cruise_distance_series contains standardized distances in KM\n"
   ]
  },
  {
   "cell_type": "markdown",
   "id": "002a64e8",
   "metadata": {},
   "source": [
    "## Handle ratings with invalid values\n",
    "**Purpose:**\n",
    "- Ratings cannot 0, we need to either remove or do imputation\n",
    "\n",
    "**Thought Process:**\n",
    "- From [Basic Data Exploration](#basic-data-exploration), these ratings have invalid ratings (0 for rating)\n",
    "\n",
    "| Rating        | Zero Count      |\n",
    "| ---------------------| ------------------- |\n",
    "|Embarkation/Disembarkation time convenient|6036\n",
    "|Ease of Online booking|5020\n",
    "|Gate location|  1\n",
    "|Online Check-in|2770\n",
    "|Cabin Comfort|  1\n",
    "|Cabin service| 5\n",
    "|Onboard Service|5\n",
    "|Cleanliness|13\n",
    "\n",
    "- Propose to assign `1.0` to these ratings, assuming that customers attempted to give the lowest rating"
   ]
  },
  {
   "cell_type": "code",
   "execution_count": 22,
   "id": "95fff721",
   "metadata": {},
   "outputs": [],
   "source": [
    "# Assigning 1.0 to these columns\n",
    "\n",
    "# Define a list of rating columns\n",
    "rating_columns = ['Onboard Wifi Service',\n",
    "                 'Embarkation/Disembarkation time convenient',\n",
    "                 'Ease of Online booking',\n",
    "                 'Gate location',\n",
    "                 'Onboard Dining Service',\n",
    "                 'Online Check-in',\n",
    "                 'Cabin Comfort',\n",
    "                 'Onboard Entertainment',\n",
    "                 'Cabin service',\n",
    "                 'Baggage handling',\n",
    "                 'Port Check-in Service',\n",
    "                 'Onboard Service',\n",
    "                 'Cleanliness']\n",
    "\n",
    "# Define function to check and replace incorrect ratings\n",
    "def correct_ratings(rating):\n",
    "    return rating.apply(lambda x: 1.0 if x == 0.0 or x == 0 else x)\n",
    "\n",
    "# Apply function to rating columns\n",
    "merged_data[rating_columns] = merged_data[rating_columns].apply(correct_ratings)"
   ]
  },
  {
   "cell_type": "markdown",
   "id": "040e0809",
   "metadata": {},
   "source": [
    "### Change data type of `Dining` from int64 to float64\n"
   ]
  },
  {
   "cell_type": "code",
   "execution_count": 23,
   "id": "a222b577",
   "metadata": {},
   "outputs": [],
   "source": [
    "# Convert 'Dining' data type to float\n",
    "merged_data['Dining'] = merged_data['Dining'].astype(float)"
   ]
  },
  {
   "cell_type": "markdown",
   "id": "75975c09",
   "metadata": {},
   "source": [
    "## Basic Feature Engineering"
   ]
  },
  {
   "cell_type": "markdown",
   "id": "d239bdab",
   "metadata": {},
   "source": [
    "### Create `Age` column from `Date of Birth` and `Logging`\n",
    "**Purpose:** \n",
    "- Create a more usable variable that can give more insights into the demographics"
   ]
  },
  {
   "cell_type": "code",
   "execution_count": 24,
   "id": "02a059a3",
   "metadata": {},
   "outputs": [],
   "source": [
    "def convert_to_dmy(date_of_birth):\n",
    "    if date_of_birth is not None:\n",
    "        try:\n",
    "            # Try to parse the date assuming %d/%m/%Y format\n",
    "            date_obj = pd.to_datetime(date_of_birth, format='%d/%m/%Y')\n",
    "            return date_obj.strftime('%d/%m/%Y')\n",
    "        except ValueError:\n",
    "            try:\n",
    "                # If parsing fails, try parsing with %Y/%d/%m format\n",
    "                date_obj = pd.to_datetime(date_of_birth, format='%Y/%d/%m')\n",
    "                return date_obj.strftime('%d/%m/%Y')\n",
    "            except ValueError:\n",
    "                try:\n",
    "                    # If parsing fails, try parsing with %Y/%m/%d format\n",
    "                    date_obj = pd.to_datetime(date_of_birth, format='%Y/%m/%d')\n",
    "                    return date_obj.strftime('%d/%m/%Y')\n",
    "                except ValueError:\n",
    "                    # If all formats fail, return the original value\n",
    "                    return date_of_birth\n",
    "    else:\n",
    "        return date_of_birth\n",
    "\n",
    "\n",
    "# Apply function to every row in cruise_pre_df\n",
    "merged_data['Date of Birth'] = merged_data['Date of Birth'].apply(convert_to_dmy)\n",
    "\n",
    "# Add a new column 'Age', compute age by subtracting logging date by their date of birth, getting the quotient after dividing by 365\n",
    "merged_data['Age'] = (pd.to_datetime(merged_data['Logging'], format='%d/%m/%Y %H:%M') - pd.to_datetime(merged_data['Date of Birth'], format='%d/%m/%Y')).dt.days // 365\n"
   ]
  },
  {
   "cell_type": "markdown",
   "id": "4ee248d7",
   "metadata": {},
   "source": [
    "Running the next line, there guests who are aged over 120, which is most likely an error.\n",
    "\n",
    "Solution:\n",
    "- Drop rows with age > 120"
   ]
  },
  {
   "cell_type": "code",
   "execution_count": 25,
   "id": "dcfd0af9",
   "metadata": {},
   "outputs": [
    {
     "data": {
      "text/plain": [
       "Age\n",
       "84.0     17\n",
       "85.0     11\n",
       "123.0    31\n",
       "124.0    45\n",
       "125.0    55\n",
       "         ..\n",
       "219.0    60\n",
       "220.0    52\n",
       "221.0    46\n",
       "222.0    48\n",
       "223.0    18\n",
       "Length: 103, dtype: int64"
      ]
     },
     "execution_count": 25,
     "metadata": {},
     "output_type": "execute_result"
    }
   ],
   "source": [
    "# Summarise counts of age more than 80\n",
    "merged_data[merged_data['Age']>80].groupby('Age').size()"
   ]
  },
  {
   "cell_type": "code",
   "execution_count": 26,
   "id": "20c4c6ba",
   "metadata": {},
   "outputs": [],
   "source": [
    "# Keep rows with age <= 120\n",
    "merged_data = merged_data[merged_data['Age'] <= 120]"
   ]
  },
  {
   "cell_type": "markdown",
   "id": "568b0b6e",
   "metadata": {},
   "source": [
    "## Handling Missing Values"
   ]
  },
  {
   "cell_type": "markdown",
   "id": "438fcc5d",
   "metadata": {},
   "source": [
    "### Label NaN rows with 'Missing' in `Ticket Type` column\n",
    "- Give insights into the missing data later on when visualising"
   ]
  },
  {
   "cell_type": "code",
   "execution_count": 27,
   "id": "df8f2242",
   "metadata": {},
   "outputs": [],
   "source": [
    "# Replace missing data with 'Missing'\n",
    "merged_data['Ticket Type'] = merged_data['Ticket Type'].fillna('Missing')"
   ]
  },
  {
   "cell_type": "markdown",
   "id": "10a8d878",
   "metadata": {},
   "source": [
    "### Label NaN rows with 'Missing' in `Cruise Name` column"
   ]
  },
  {
   "cell_type": "code",
   "execution_count": 28,
   "id": "c19918cb",
   "metadata": {},
   "outputs": [],
   "source": [
    "# Replace missing data with 'Missing'\n",
    "merged_data['Cruise Name'] = merged_data['Cruise Name'].fillna('Missing')"
   ]
  },
  {
   "cell_type": "markdown",
   "id": "fdc621d9",
   "metadata": {},
   "source": [
    "### Label NaN rows with 'Missing' in `Gender` column"
   ]
  },
  {
   "cell_type": "code",
   "execution_count": 29,
   "id": "daef2e2f",
   "metadata": {},
   "outputs": [],
   "source": [
    "# Replace missing data with 'Missing'\n",
    "merged_data['Gender'] = merged_data['Gender'].fillna('Missing')"
   ]
  },
  {
   "cell_type": "markdown",
   "id": "7502ccee",
   "metadata": {},
   "source": [
    "### Impute NaN rows with mode of column value in `Ease of Online booking`"
   ]
  },
  {
   "cell_type": "code",
   "execution_count": 30,
   "id": "71dc3f9a",
   "metadata": {},
   "outputs": [],
   "source": [
    "# Replace missing data with the column's mode\n",
    "merged_data['Ease of Online booking'].fillna(merged_data['Ease of Online booking'].mode()[0], inplace=True)"
   ]
  },
  {
   "cell_type": "markdown",
   "id": "72c35adc",
   "metadata": {},
   "source": [
    "### Repeat imputation for other rating columns with mode"
   ]
  },
  {
   "cell_type": "code",
   "execution_count": 32,
   "id": "1ace2d83",
   "metadata": {},
   "outputs": [],
   "source": [
    "# Define columns to be replaced\n",
    "rating_columns = ['Onboard Wifi Service',\n",
    "                 'Embarkation/Disembarkation time convenient',\n",
    "                 'Ease of Online booking',\n",
    "                 'Gate location',\n",
    "                 'Onboard Dining Service',\n",
    "                 'Online Check-in',\n",
    "                 'Cabin Comfort',\n",
    "                 'Onboard Entertainment',\n",
    "                 'Cabin service',\n",
    "                 'Baggage handling',\n",
    "                 'Port Check-in Service',\n",
    "                 'Onboard Service',\n",
    "                 'Cleanliness']\n",
    "\n",
    "# Replace missing data with the column's mode\n",
    "for column in rating_columns:\n",
    "    merged_data[column].fillna(merged_data[column].mode()[0], inplace=True)"
   ]
  },
  {
   "cell_type": "markdown",
   "id": "1dd87c64",
   "metadata": {},
   "source": [
    "### Impute NaN rows with mean of column values in `Cruise Distance` "
   ]
  },
  {
   "cell_type": "code",
   "execution_count": 37,
   "id": "a2fd8359",
   "metadata": {},
   "outputs": [],
   "source": [
    "merged_data['Cruise Distance'].fillna(merged_data['Cruise Distance'].mean(), inplace=True)"
   ]
  },
  {
   "cell_type": "code",
   "execution_count": 38,
   "id": "c7e4425a",
   "metadata": {},
   "outputs": [
    {
     "data": {
      "text/plain": [
       "<Axes: >"
      ]
     },
     "execution_count": 38,
     "metadata": {},
     "output_type": "execute_result"
    },
    {
     "data": {
      "image/png": "[encoded data removed]",
      "text/plain": [
       "<Figure size 640x480 with 1 Axes>"
      ]
     },
     "metadata": {},
     "output_type": "display_data"
    }
   ],
   "source": [
    "sns.heatmap(merged_data.isnull(), yticklabels=False, cbar=False, cmap='viridis')"
   ]
  },
  {
   "cell_type": "markdown",
   "id": "d75830e9",
   "metadata": {},
   "source": [
    "### Analyze sensitivity of replacing missing values with mean, mode or median value\n",
    "**Purpose:** \n",
    "- To visualize the impact of imputation versus dropping data\n",
    "\n",
    "**Conclusion:**\n",
    "- Dropping all NaN rows means more than 95% rows will be dropped, which is not ideal."
   ]
  },
  {
   "cell_type": "code",
   "execution_count": null,
   "id": "025f1f8b",
   "metadata": {},
   "outputs": [
    {
     "data": {
      "image/png": "[encoded data removed]",
      "text/plain": [
       "<Figure size 1200x400 with 2 Axes>"
      ]
     },
     "metadata": {},
     "output_type": "display_data"
    }
   ],
   "source": [
    "import warnings\n",
    "warnings.filterwarnings(\"ignore\")\n",
    "\n",
    "x_column = 'Baggage handling' # Change value here to view different column\n",
    "\n",
    "# Create a temporary dataframe copy to drop missing value\n",
    "dropped_data = merged_data.copy()\n",
    "dropped_data.dropna(inplace=True)\n",
    "\n",
    "# Create a temporary dataframe copy to perform missing data fill\n",
    "adjusted_data = merged_data.copy()\n",
    "adjusted_data[x_column].fillna(merged_data[x_column].mode()[0], inplace=True)\n",
    "\n",
    "# Create a 1 by 2 sub-plot\n",
    "fig, axes = plt.subplots(1, 2, figsize=(12, 4))\n",
    "\n",
    "# Ease of Online booking count plot without filling NaN values\n",
    "plot1 = sns.countplot(data=dropped_data,\n",
    "                    x=x_column,\n",
    "                    hue='Gender',\n",
    "                    ax=axes[0])\n",
    "plot1.set_title('Dropped Missing Value')\n",
    "\n",
    "\n",
    "# Ease of Online booking count plot after filling with mode data\n",
    "plot2 = sns.countplot(data=adjusted_data,\n",
    "                    x=x_column,\n",
    "                    hue='Gender',\n",
    "                    ax=axes[1])\n",
    "plot2.set_title('Fill with Mode data')\n",
    "\n",
    "plt.tight_layout()\n",
    "plt.show()"
   ]
  },
  {
   "cell_type": "markdown",
   "id": "cf52bcad",
   "metadata": {},
   "source": [
    "**Scale/Rating Feature Columns**\n",
    "- For scale columns (where guests indicate their level of preference), we can replace NaN values with that column's most occuring importance, aka the `mode`.\n",
    "- This approach leverages on available data to estimate the missing scales.\n",
    "- Allows more data points to be kept, while also not skewing the data if extreme default values are used (e.g 0)\n",
    "- `Mean` can be used too but since scales are whole numbers, `mode` is slightly more suited.\n",
    "\n",
    "**Gender Feature Column**\n",
    "- Employ the same approach, replacing NaN fields with `mode` of `Gender` column\n",
    "\n",
    "**Date of Birth Feature Column**\n",
    "- Calculate the age of guest, and fill missing age values with the `mean` age"
   ]
  },
  {
   "cell_type": "code",
   "execution_count": null,
   "id": "def1a414",
   "metadata": {},
   "outputs": [],
   "source": [
    "# Define a list of column names that belongs to guest's scale rating\n",
    "rating_columns = ['Onboard Wifi Service',\n",
    "                 'Embarkation/Disembarkation time convenient',\n",
    "                 'Ease of Online booking',\n",
    "                 'Gate location',\n",
    "                 'Onboard Dining Service',\n",
    "                 'Online Check-in',\n",
    "                 'Cabin Comfort',\n",
    "                 'Onboard Entertainment',\n",
    "                 'Cabin service',\n",
    "                 'Baggage handling',\n",
    "                 'Port Check-in Service',\n",
    "                 'Onboard Service',\n",
    "                 'Cleanliness']\n",
    "# Iterate through each scale column, fill NaN fields with the mode of that column\n",
    "# for column in scale_columns:\n",
    "#     cruise_pre_df[column].fillna(cruise_pre_df[column].mode()[0], inplace=True)\n",
    "\n",
    "# Similarly for Gender, fill NaN gender field with mode of the Gender column\n",
    "# cruise_pre_df['Gender'].fillna(cruise_pre_df['Gender'].mode()[0], inplace=True)\n"
   ]
  },
  {
   "cell_type": "markdown",
   "id": "b696de82",
   "metadata": {},
   "source": [
    "**Resulting `cruise_pre_df` so far:**\n",
    "- All scales are in proper numerical label, and missing values are filled via `mode` imputation\n",
    "- Gender was assigned binary label (`Male` = 0, `Female` = 1), and missing values are filled via `mode` imputation\n",
    "- Source of Traffic was ordinally labelled and missing values filled via `mode` imputation\n",
    "    - `'Direct - Company Website':0.0`\n",
    "    - `'Direct - Email Marketing':1.0`\n",
    "    - `'Indirect - Search Engine':2.0`\n",
    "    - `'Indirect - Social Media':3.0`"
   ]
  },
  {
   "cell_type": "code",
   "execution_count": null,
   "id": "74800059",
   "metadata": {},
   "outputs": [
    {
     "data": {
      "text/html": [
       "<div>\n",
       "<style scoped>\n",
       "    .dataframe tbody tr th:only-of-type {\n",
       "        vertical-align: middle;\n",
       "    }\n",
       "\n",
       "    .dataframe tbody tr th {\n",
       "        vertical-align: top;\n",
       "    }\n",
       "\n",
       "    .dataframe thead th {\n",
       "        text-align: right;\n",
       "    }\n",
       "</style>\n",
       "<table border=\"1\" class=\"dataframe\">\n",
       "  <thead>\n",
       "    <tr style=\"text-align: right;\">\n",
       "      <th></th>\n",
       "      <th>Gender</th>\n",
       "      <th>Date of Birth</th>\n",
       "      <th>Source of Traffic</th>\n",
       "      <th>Onboard Wifi Service</th>\n",
       "      <th>Embarkation/Disembarkation time convenient</th>\n",
       "      <th>Ease of Online booking</th>\n",
       "      <th>Gate location</th>\n",
       "      <th>Logging</th>\n",
       "      <th>Onboard Dining Service</th>\n",
       "      <th>Online Check-in</th>\n",
       "      <th>Cabin Comfort</th>\n",
       "      <th>Onboard Entertainment</th>\n",
       "      <th>Cabin service</th>\n",
       "      <th>Baggage handling</th>\n",
       "      <th>Port Check-in Service</th>\n",
       "      <th>Onboard Service</th>\n",
       "      <th>Cleanliness</th>\n",
       "      <th>Ext_Intcode</th>\n",
       "    </tr>\n",
       "    <tr>\n",
       "      <th>index</th>\n",
       "      <th></th>\n",
       "      <th></th>\n",
       "      <th></th>\n",
       "      <th></th>\n",
       "      <th></th>\n",
       "      <th></th>\n",
       "      <th></th>\n",
       "      <th></th>\n",
       "      <th></th>\n",
       "      <th></th>\n",
       "      <th></th>\n",
       "      <th></th>\n",
       "      <th></th>\n",
       "      <th></th>\n",
       "      <th></th>\n",
       "      <th></th>\n",
       "      <th></th>\n",
       "      <th></th>\n",
       "    </tr>\n",
       "  </thead>\n",
       "  <tbody>\n",
       "    <tr>\n",
       "      <th>0</th>\n",
       "      <td>None</td>\n",
       "      <td>05/10/1973</td>\n",
       "      <td>Direct - Company Website</td>\n",
       "      <td>A little important</td>\n",
       "      <td>3.0</td>\n",
       "      <td>5.0</td>\n",
       "      <td>3.0</td>\n",
       "      <td>01/01/2023 0:00</td>\n",
       "      <td>Very important</td>\n",
       "      <td>2.0</td>\n",
       "      <td>2.0</td>\n",
       "      <td>A little important</td>\n",
       "      <td>2.0</td>\n",
       "      <td>2.0</td>\n",
       "      <td>4.0</td>\n",
       "      <td>2.0</td>\n",
       "      <td>3.0</td>\n",
       "      <td>LB446RWOOZI</td>\n",
       "    </tr>\n",
       "    <tr>\n",
       "      <th>1</th>\n",
       "      <td>Female</td>\n",
       "      <td>None</td>\n",
       "      <td>Indirect - Social Media</td>\n",
       "      <td>Not at all important</td>\n",
       "      <td>4.0</td>\n",
       "      <td>1.0</td>\n",
       "      <td>NaN</td>\n",
       "      <td>01/01/2023 0:01</td>\n",
       "      <td>Very important</td>\n",
       "      <td>NaN</td>\n",
       "      <td>4.0</td>\n",
       "      <td>None</td>\n",
       "      <td>2.0</td>\n",
       "      <td>3.0</td>\n",
       "      <td>4.0</td>\n",
       "      <td>4.0</td>\n",
       "      <td>4.0</td>\n",
       "      <td>LB138HKBECM</td>\n",
       "    </tr>\n",
       "    <tr>\n",
       "      <th>2</th>\n",
       "      <td>Female</td>\n",
       "      <td>22/07/1998</td>\n",
       "      <td>Indirect - Search Engine</td>\n",
       "      <td>None</td>\n",
       "      <td>3.0</td>\n",
       "      <td>0.0</td>\n",
       "      <td>5.0</td>\n",
       "      <td>01/01/2023 0:02</td>\n",
       "      <td>None</td>\n",
       "      <td>NaN</td>\n",
       "      <td>5.0</td>\n",
       "      <td>Extremely important</td>\n",
       "      <td>2.0</td>\n",
       "      <td>1.0</td>\n",
       "      <td>2.0</td>\n",
       "      <td>3.0</td>\n",
       "      <td>NaN</td>\n",
       "      <td>BL713UHBAAN</td>\n",
       "    </tr>\n",
       "    <tr>\n",
       "      <th>3</th>\n",
       "      <td>Female</td>\n",
       "      <td>01/05/1970</td>\n",
       "      <td>Direct - Company Website</td>\n",
       "      <td>Very important</td>\n",
       "      <td>4.0</td>\n",
       "      <td>4.0</td>\n",
       "      <td>4.0</td>\n",
       "      <td>01/01/2023 0:05</td>\n",
       "      <td>Somewhat important</td>\n",
       "      <td>4.0</td>\n",
       "      <td>4.0</td>\n",
       "      <td>None</td>\n",
       "      <td>NaN</td>\n",
       "      <td>NaN</td>\n",
       "      <td>3.0</td>\n",
       "      <td>2.0</td>\n",
       "      <td>4.0</td>\n",
       "      <td>LB243DMKCFL</td>\n",
       "    </tr>\n",
       "    <tr>\n",
       "      <th>4</th>\n",
       "      <td>Male</td>\n",
       "      <td>07/01/1960</td>\n",
       "      <td>Direct - Company Website</td>\n",
       "      <td>Somewhat important</td>\n",
       "      <td>4.0</td>\n",
       "      <td>2.0</td>\n",
       "      <td>NaN</td>\n",
       "      <td>01/01/2023 0:06</td>\n",
       "      <td>Not at all important</td>\n",
       "      <td>2.0</td>\n",
       "      <td>NaN</td>\n",
       "      <td>Not at all important</td>\n",
       "      <td>3.0</td>\n",
       "      <td>NaN</td>\n",
       "      <td>5.0</td>\n",
       "      <td>2.0</td>\n",
       "      <td>NaN</td>\n",
       "      <td>LB218CFLOBS</td>\n",
       "    </tr>\n",
       "  </tbody>\n",
       "</table>\n",
       "</div>"
      ],
      "text/plain": [
       "       Gender Date of Birth         Source of Traffic  Onboard Wifi Service  \\\n",
       "index                                                                         \n",
       "0        None    05/10/1973  Direct - Company Website    A little important   \n",
       "1      Female          None   Indirect - Social Media  Not at all important   \n",
       "2      Female    22/07/1998  Indirect - Search Engine                  None   \n",
       "3      Female    01/05/1970  Direct - Company Website        Very important   \n",
       "4        Male    07/01/1960  Direct - Company Website    Somewhat important   \n",
       "\n",
       "       Embarkation/Disembarkation time convenient  Ease of Online booking  \\\n",
       "index                                                                       \n",
       "0                                             3.0                     5.0   \n",
       "1                                             4.0                     1.0   \n",
       "2                                             3.0                     0.0   \n",
       "3                                             4.0                     4.0   \n",
       "4                                             4.0                     2.0   \n",
       "\n",
       "       Gate location          Logging Onboard Dining Service  Online Check-in  \\\n",
       "index                                                                           \n",
       "0                3.0  01/01/2023 0:00         Very important              2.0   \n",
       "1                NaN  01/01/2023 0:01         Very important              NaN   \n",
       "2                5.0  01/01/2023 0:02                   None              NaN   \n",
       "3                4.0  01/01/2023 0:05     Somewhat important              4.0   \n",
       "4                NaN  01/01/2023 0:06   Not at all important              2.0   \n",
       "\n",
       "       Cabin Comfort Onboard Entertainment  Cabin service  Baggage handling  \\\n",
       "index                                                                         \n",
       "0                2.0    A little important            2.0               2.0   \n",
       "1                4.0                  None            2.0               3.0   \n",
       "2                5.0   Extremely important            2.0               1.0   \n",
       "3                4.0                  None            NaN               NaN   \n",
       "4                NaN  Not at all important            3.0               NaN   \n",
       "\n",
       "       Port Check-in Service  Onboard Service  Cleanliness  Ext_Intcode  \n",
       "index                                                                    \n",
       "0                        4.0              2.0          3.0  LB446RWOOZI  \n",
       "1                        4.0              4.0          4.0  LB138HKBECM  \n",
       "2                        2.0              3.0          NaN  BL713UHBAAN  \n",
       "3                        3.0              2.0          4.0  LB243DMKCFL  \n",
       "4                        5.0              2.0          NaN  LB218CFLOBS  "
      ]
     },
     "execution_count": 35,
     "metadata": {},
     "output_type": "execute_result"
    }
   ],
   "source": [
    "# Show part of resulting cruise_pre_df\n",
    "cruise_pre_df.head()"
   ]
  },
  {
   "cell_type": "markdown",
   "id": "39e22256",
   "metadata": {},
   "source": [
    "# In-Depth Data Exploration\n",
    "**Purpose:** \n",
    "- Gain deeper insights into the dataset\n",
    "\n",
    "Actions:\n",
    "- Generate summary statistics and visualizations (histograms, box plots)\n",
    "- Explore correlations between variables (does \"Onboard Dining Service\" correlate with \"Cabin Comfort\"?)\n",
    "- Visualize distributions and trends\n",
    "- Conduct hypothesis testing if relevant\n",
    "- Distribution of ratings, visualise with histogram/boxplot\n",
    "- Source of Traffic analysis, visualize dist of guest, see pattern/trend"
   ]
  },
  {
   "cell_type": "code",
   "execution_count": null,
   "id": "3b92ed52",
   "metadata": {},
   "outputs": [
    {
     "data": {
      "text/html": [
       "<div>\n",
       "<style scoped>\n",
       "    .dataframe tbody tr th:only-of-type {\n",
       "        vertical-align: middle;\n",
       "    }\n",
       "\n",
       "    .dataframe tbody tr th {\n",
       "        vertical-align: top;\n",
       "    }\n",
       "\n",
       "    .dataframe thead th {\n",
       "        text-align: right;\n",
       "    }\n",
       "</style>\n",
       "<table border=\"1\" class=\"dataframe\">\n",
       "  <thead>\n",
       "    <tr style=\"text-align: right;\">\n",
       "      <th></th>\n",
       "      <th>Onboard Wifi Service</th>\n",
       "      <th>Embarkation/Disembarkation time convenient</th>\n",
       "      <th>Ease of Online booking</th>\n",
       "      <th>Gate location</th>\n",
       "      <th>Onboard Dining Service</th>\n",
       "      <th>Online Check-in</th>\n",
       "      <th>Cabin Comfort</th>\n",
       "      <th>Onboard Entertainment</th>\n",
       "      <th>Cabin service</th>\n",
       "      <th>Baggage handling</th>\n",
       "      <th>Port Check-in Service</th>\n",
       "      <th>Onboard Service</th>\n",
       "      <th>Cleanliness</th>\n",
       "      <th>Cruise Distance</th>\n",
       "      <th>WiFi</th>\n",
       "      <th>Dining</th>\n",
       "      <th>Entertainment</th>\n",
       "      <th>Age</th>\n",
       "    </tr>\n",
       "  </thead>\n",
       "  <tbody>\n",
       "    <tr>\n",
       "      <th>count</th>\n",
       "      <td>103356.000000</td>\n",
       "      <td>106928.000000</td>\n",
       "      <td>121006.000000</td>\n",
       "      <td>105533.000000</td>\n",
       "      <td>105839.000000</td>\n",
       "      <td>106712.000000</td>\n",
       "      <td>99904.000000</td>\n",
       "      <td>106704.000000</td>\n",
       "      <td>108535.000000</td>\n",
       "      <td>99809.000000</td>\n",
       "      <td>108067.000000</td>\n",
       "      <td>104342.000000</td>\n",
       "      <td>101553.000000</td>\n",
       "      <td>107942.000000</td>\n",
       "      <td>57785.000000</td>\n",
       "      <td>121006.000000</td>\n",
       "      <td>66583.000000</td>\n",
       "      <td>121006.000000</td>\n",
       "    </tr>\n",
       "    <tr>\n",
       "      <th>mean</th>\n",
       "      <td>2.813692</td>\n",
       "      <td>3.105847</td>\n",
       "      <td>2.830190</td>\n",
       "      <td>2.977344</td>\n",
       "      <td>3.203545</td>\n",
       "      <td>3.270925</td>\n",
       "      <td>3.439182</td>\n",
       "      <td>3.357081</td>\n",
       "      <td>3.382789</td>\n",
       "      <td>3.633420</td>\n",
       "      <td>3.311205</td>\n",
       "      <td>3.642071</td>\n",
       "      <td>3.284275</td>\n",
       "      <td>1262.423076</td>\n",
       "      <td>0.498711</td>\n",
       "      <td>0.498083</td>\n",
       "      <td>0.504198</td>\n",
       "      <td>38.763417</td>\n",
       "    </tr>\n",
       "    <tr>\n",
       "      <th>std</th>\n",
       "      <td>1.257225</td>\n",
       "      <td>1.435512</td>\n",
       "      <td>1.234133</td>\n",
       "      <td>1.276372</td>\n",
       "      <td>1.326647</td>\n",
       "      <td>1.301652</td>\n",
       "      <td>1.321839</td>\n",
       "      <td>1.333433</td>\n",
       "      <td>1.287201</td>\n",
       "      <td>1.179826</td>\n",
       "      <td>1.267101</td>\n",
       "      <td>1.178533</td>\n",
       "      <td>1.313524</td>\n",
       "      <td>1097.024478</td>\n",
       "      <td>0.500003</td>\n",
       "      <td>0.499998</td>\n",
       "      <td>0.499986</td>\n",
       "      <td>15.139025</td>\n",
       "    </tr>\n",
       "    <tr>\n",
       "      <th>min</th>\n",
       "      <td>1.000000</td>\n",
       "      <td>1.000000</td>\n",
       "      <td>1.000000</td>\n",
       "      <td>1.000000</td>\n",
       "      <td>1.000000</td>\n",
       "      <td>1.000000</td>\n",
       "      <td>1.000000</td>\n",
       "      <td>1.000000</td>\n",
       "      <td>1.000000</td>\n",
       "      <td>1.000000</td>\n",
       "      <td>1.000000</td>\n",
       "      <td>1.000000</td>\n",
       "      <td>1.000000</td>\n",
       "      <td>31.000000</td>\n",
       "      <td>0.000000</td>\n",
       "      <td>0.000000</td>\n",
       "      <td>0.000000</td>\n",
       "      <td>6.000000</td>\n",
       "    </tr>\n",
       "    <tr>\n",
       "      <th>25%</th>\n",
       "      <td>2.000000</td>\n",
       "      <td>2.000000</td>\n",
       "      <td>2.000000</td>\n",
       "      <td>2.000000</td>\n",
       "      <td>2.000000</td>\n",
       "      <td>2.000000</td>\n",
       "      <td>2.000000</td>\n",
       "      <td>2.000000</td>\n",
       "      <td>2.000000</td>\n",
       "      <td>3.000000</td>\n",
       "      <td>3.000000</td>\n",
       "      <td>3.000000</td>\n",
       "      <td>2.000000</td>\n",
       "      <td>432.000000</td>\n",
       "      <td>0.000000</td>\n",
       "      <td>0.000000</td>\n",
       "      <td>0.000000</td>\n",
       "      <td>26.000000</td>\n",
       "    </tr>\n",
       "    <tr>\n",
       "      <th>50%</th>\n",
       "      <td>3.000000</td>\n",
       "      <td>3.000000</td>\n",
       "      <td>3.000000</td>\n",
       "      <td>3.000000</td>\n",
       "      <td>3.000000</td>\n",
       "      <td>3.000000</td>\n",
       "      <td>4.000000</td>\n",
       "      <td>4.000000</td>\n",
       "      <td>4.000000</td>\n",
       "      <td>4.000000</td>\n",
       "      <td>3.000000</td>\n",
       "      <td>4.000000</td>\n",
       "      <td>3.000000</td>\n",
       "      <td>868.000000</td>\n",
       "      <td>0.000000</td>\n",
       "      <td>0.000000</td>\n",
       "      <td>1.000000</td>\n",
       "      <td>39.000000</td>\n",
       "    </tr>\n",
       "    <tr>\n",
       "      <th>75%</th>\n",
       "      <td>4.000000</td>\n",
       "      <td>4.000000</td>\n",
       "      <td>4.000000</td>\n",
       "      <td>4.000000</td>\n",
       "      <td>4.000000</td>\n",
       "      <td>4.000000</td>\n",
       "      <td>5.000000</td>\n",
       "      <td>4.000000</td>\n",
       "      <td>4.000000</td>\n",
       "      <td>5.000000</td>\n",
       "      <td>4.000000</td>\n",
       "      <td>5.000000</td>\n",
       "      <td>4.000000</td>\n",
       "      <td>1804.070140</td>\n",
       "      <td>1.000000</td>\n",
       "      <td>1.000000</td>\n",
       "      <td>1.000000</td>\n",
       "      <td>50.000000</td>\n",
       "    </tr>\n",
       "    <tr>\n",
       "      <th>max</th>\n",
       "      <td>5.000000</td>\n",
       "      <td>5.000000</td>\n",
       "      <td>5.000000</td>\n",
       "      <td>5.000000</td>\n",
       "      <td>5.000000</td>\n",
       "      <td>5.000000</td>\n",
       "      <td>5.000000</td>\n",
       "      <td>5.000000</td>\n",
       "      <td>5.000000</td>\n",
       "      <td>5.000000</td>\n",
       "      <td>5.000000</td>\n",
       "      <td>5.000000</td>\n",
       "      <td>5.000000</td>\n",
       "      <td>7987.154420</td>\n",
       "      <td>1.000000</td>\n",
       "      <td>1.000000</td>\n",
       "      <td>1.000000</td>\n",
       "      <td>85.000000</td>\n",
       "    </tr>\n",
       "  </tbody>\n",
       "</table>\n",
       "</div>"
      ],
      "text/plain": [
       "       Onboard Wifi Service  Embarkation/Disembarkation time convenient  \\\n",
       "count         103356.000000                               106928.000000   \n",
       "mean               2.813692                                    3.105847   \n",
       "std                1.257225                                    1.435512   \n",
       "min                1.000000                                    1.000000   \n",
       "25%                2.000000                                    2.000000   \n",
       "50%                3.000000                                    3.000000   \n",
       "75%                4.000000                                    4.000000   \n",
       "max                5.000000                                    5.000000   \n",
       "\n",
       "       Ease of Online booking  Gate location  Onboard Dining Service  \\\n",
       "count           121006.000000  105533.000000           105839.000000   \n",
       "mean                 2.830190       2.977344                3.203545   \n",
       "std                  1.234133       1.276372                1.326647   \n",
       "min                  1.000000       1.000000                1.000000   \n",
       "25%                  2.000000       2.000000                2.000000   \n",
       "50%                  3.000000       3.000000                3.000000   \n",
       "75%                  4.000000       4.000000                4.000000   \n",
       "max                  5.000000       5.000000                5.000000   \n",
       "\n",
       "       Online Check-in  Cabin Comfort  Onboard Entertainment  Cabin service  \\\n",
       "count    106712.000000   99904.000000          106704.000000  108535.000000   \n",
       "mean          3.270925       3.439182               3.357081       3.382789   \n",
       "std           1.301652       1.321839               1.333433       1.287201   \n",
       "min           1.000000       1.000000               1.000000       1.000000   \n",
       "25%           2.000000       2.000000               2.000000       2.000000   \n",
       "50%           3.000000       4.000000               4.000000       4.000000   \n",
       "75%           4.000000       5.000000               4.000000       4.000000   \n",
       "max           5.000000       5.000000               5.000000       5.000000   \n",
       "\n",
       "       Baggage handling  Port Check-in Service  Onboard Service  \\\n",
       "count      99809.000000          108067.000000    104342.000000   \n",
       "mean           3.633420               3.311205         3.642071   \n",
       "std            1.179826               1.267101         1.178533   \n",
       "min            1.000000               1.000000         1.000000   \n",
       "25%            3.000000               3.000000         3.000000   \n",
       "50%            4.000000               3.000000         4.000000   \n",
       "75%            5.000000               4.000000         5.000000   \n",
       "max            5.000000               5.000000         5.000000   \n",
       "\n",
       "         Cleanliness  Cruise Distance          WiFi         Dining  \\\n",
       "count  101553.000000    107942.000000  57785.000000  121006.000000   \n",
       "mean        3.284275      1262.423076      0.498711       0.498083   \n",
       "std         1.313524      1097.024478      0.500003       0.499998   \n",
       "min         1.000000        31.000000      0.000000       0.000000   \n",
       "25%         2.000000       432.000000      0.000000       0.000000   \n",
       "50%         3.000000       868.000000      0.000000       0.000000   \n",
       "75%         4.000000      1804.070140      1.000000       1.000000   \n",
       "max         5.000000      7987.154420      1.000000       1.000000   \n",
       "\n",
       "       Entertainment            Age  \n",
       "count   66583.000000  121006.000000  \n",
       "mean        0.504198      38.763417  \n",
       "std         0.499986      15.139025  \n",
       "min         0.000000       6.000000  \n",
       "25%         0.000000      26.000000  \n",
       "50%         1.000000      39.000000  \n",
       "75%         1.000000      50.000000  \n",
       "max         1.000000      85.000000  "
      ]
     },
     "execution_count": 36,
     "metadata": {},
     "output_type": "execute_result"
    }
   ],
   "source": [
    "merged_data.describe()"
   ]
  },
  {
   "cell_type": "markdown",
   "id": "b0e52b28",
   "metadata": {},
   "source": [
    "## Create histogram of Age"
   ]
  },
  {
   "cell_type": "code",
   "execution_count": null,
   "id": "7a399112",
   "metadata": {},
   "outputs": [
    {
     "data": {
      "text/plain": [
       "<seaborn.axisgrid.FacetGrid at 0x2b987a050>"
      ]
     },
     "execution_count": 37,
     "metadata": {},
     "output_type": "execute_result"
    },
    {
     "data": {
      "image/png": "[encoded data removed]",
      "text/plain": [
       "<Figure size 601.625x500 with 1 Axes>"
      ]
     },
     "metadata": {},
     "output_type": "display_data"
    }
   ],
   "source": [
    "# Distinguish 'Gender' from 'Age' histogram\n",
    "sns.displot(data=merged_data, kind='hist', x = 'Age', hue='Gender')"
   ]
  },
  {
   "cell_type": "code",
   "execution_count": null,
   "id": "79e367db",
   "metadata": {},
   "outputs": [
    {
     "data": {
      "text/plain": [
       "<seaborn.axisgrid.FacetGrid at 0x29f5a4610>"
      ]
     },
     "execution_count": 38,
     "metadata": {},
     "output_type": "execute_result"
    },
    {
     "data": {
      "image/png": "[encoded data removed]",
      "text/plain": [
       "<Figure size 613.5x500 with 1 Axes>"
      ]
     },
     "metadata": {},
     "output_type": "display_data"
    }
   ],
   "source": [
    "# Distinguish 'Ticket Type' from 'Age' histogram\n",
    "sns.displot(data=merged_data, kind='hist', x = 'Age', hue='Ticket Type')"
   ]
  },
  {
   "cell_type": "code",
   "execution_count": null,
   "id": "4400cffa",
   "metadata": {},
   "outputs": [
    {
     "data": {
      "text/plain": [
       "<seaborn.axisgrid.FacetGrid at 0x2b9c71610>"
      ]
     },
     "execution_count": 39,
     "metadata": {},
     "output_type": "execute_result"
    },
    {
     "data": {
      "image/png": "[encoded data removed]",
      "text/plain": [
       "<Figure size 612.75x500 with 1 Axes>"
      ]
     },
     "metadata": {},
     "output_type": "display_data"
    }
   ],
   "source": [
    "# Distinguish 'Cruise Name' from 'Age' histogram\n",
    "sns.displot(data=merged_data, kind='hist', x = 'Age', hue='Cruise Name')"
   ]
  },
  {
   "cell_type": "code",
   "execution_count": null,
   "id": "352435e3",
   "metadata": {},
   "outputs": [
    {
     "data": {
      "text/plain": [
       "<seaborn.axisgrid.FacetGrid at 0x2a6f65a50>"
      ]
     },
     "execution_count": 40,
     "metadata": {},
     "output_type": "execute_result"
    },
    {
     "data": {
      "image/png": "[encoded data removed]",
      "text/plain": [
       "<Figure size 731.375x500 with 1 Axes>"
      ]
     },
     "metadata": {},
     "output_type": "display_data"
    }
   ],
   "source": [
    "# Distinguish 'Source of Traffic' from 'Age' histogram\n",
    "sns.displot(data=merged_data, kind='hist', x = 'Age', hue='Source of Traffic')"
   ]
  },
  {
   "cell_type": "code",
   "execution_count": 40,
   "id": "257455cb",
   "metadata": {},
   "outputs": [
    {
     "data": {
      "text/plain": [
       "<seaborn.axisgrid.FacetGrid at 0x2a7d0d1d0>"
      ]
     },
     "execution_count": 40,
     "metadata": {},
     "output_type": "execute_result"
    },
    {
     "data": {
      "image/png": "[encoded data removed]",
      "text/plain": [
       "<Figure size 500x500 with 1 Axes>"
      ]
     },
     "metadata": {},
     "output_type": "display_data"
    }
   ],
   "source": [
    "sns.displot(data=merged_data, kind='hist', x='Ticket Type')"
   ]
  },
  {
   "cell_type": "code",
   "execution_count": null,
   "id": "f437e068",
   "metadata": {},
   "outputs": [
    {
     "name": "stdout",
     "output_type": "stream",
     "text": [
      "<class 'pandas.core.frame.DataFrame'>\n",
      "Int64Index: 121006 entries, 0 to 141537\n",
      "Data columns (total 25 columns):\n",
      " #   Column                                      Non-Null Count   Dtype  \n",
      "---  ------                                      --------------   -----  \n",
      " 0   Gender                                      121006 non-null  object \n",
      " 1   Date of Birth                               121006 non-null  object \n",
      " 2   Source of Traffic                           121006 non-null  object \n",
      " 3   Onboard Wifi Service                        103356 non-null  float64\n",
      " 4   Embarkation/Disembarkation time convenient  106928 non-null  float64\n",
      " 5   Ease of Online booking                      121006 non-null  float64\n",
      " 6   Gate location                               105533 non-null  float64\n",
      " 7   Logging                                     121006 non-null  object \n",
      " 8   Onboard Dining Service                      105839 non-null  float64\n",
      " 9   Online Check-in                             106712 non-null  float64\n",
      " 10  Cabin Comfort                               99904 non-null   float64\n",
      " 11  Onboard Entertainment                       106704 non-null  float64\n",
      " 12  Cabin service                               108535 non-null  float64\n",
      " 13  Baggage handling                            99809 non-null   float64\n",
      " 14  Port Check-in Service                       108067 non-null  float64\n",
      " 15  Onboard Service                             104342 non-null  float64\n",
      " 16  Cleanliness                                 101553 non-null  float64\n",
      " 17  Ext_Intcode                                 121006 non-null  object \n",
      " 18  Cruise Name                                 121006 non-null  object \n",
      " 19  Ticket Type                                 121006 non-null  object \n",
      " 20  Cruise Distance                             107942 non-null  float64\n",
      " 21  WiFi                                        57785 non-null   float64\n",
      " 22  Dining                                      121006 non-null  float64\n",
      " 23  Entertainment                               66583 non-null   float64\n",
      " 24  Age                                         121006 non-null  float64\n",
      "dtypes: float64(18), object(7)\n",
      "memory usage: 28.0+ MB\n"
     ]
    }
   ],
   "source": [
    "merged_data.info()"
   ]
  },
  {
   "cell_type": "code",
   "execution_count": null,
   "id": "628498d5",
   "metadata": {},
   "outputs": [
    {
     "data": {
      "text/plain": [
       "<Axes: xlabel='Ease of Online booking', ylabel='count'>"
      ]
     },
     "execution_count": 42,
     "metadata": {},
     "output_type": "execute_result"
    },
    {
     "data": {
      "image/png": "[encoded data removed]",
      "text/plain": [
       "<Figure size 640x480 with 1 Axes>"
      ]
     },
     "metadata": {},
     "output_type": "display_data"
    }
   ],
   "source": [
    "sns.countplot(data=merged_data, hue='Ticket Type', x='Ease of Online booking')"
   ]
  },
  {
   "cell_type": "code",
   "execution_count": null,
   "id": "ba611e55",
   "metadata": {},
   "outputs": [
    {
     "data": {
      "text/plain": [
       "Text(0.5, 1.0, 'Drop')"
      ]
     },
     "execution_count": 49,
     "metadata": {},
     "output_type": "execute_result"
    },
    {
     "data": {
      "image/png": "[encoded data removed]",
      "text/plain": [
       "<Figure size 1000x400 with 2 Axes>"
      ]
     },
     "metadata": {},
     "output_type": "display_data"
    }
   ],
   "source": [
    "drop = merged_data.copy()\n",
    "impute = merged_data.copy()\n",
    "x = 'Gate location'\n",
    "impute[x].fillna(impute[x].mode()[0], inplace=True)\n",
    "drop[x].dropna(inplace=True)\n",
    "\n",
    "# Create a figure with two subplots\n",
    "fig, axes = plt.subplots(1, 2, figsize=(10, 4))\n",
    "\n",
    "sns.countplot(data=impute, hue='Ticket Type',x=x, ax=axes[0])\n",
    "axes[0].set_title('Impute')\n",
    "\n",
    "sns.countplot(data=drop, hue='Ticket Type',x=x, ax=axes[1])\n",
    "axes[1].set_title('Drop')"
   ]
  },
  {
   "cell_type": "code",
   "execution_count": null,
   "id": "0242d08e",
   "metadata": {},
   "outputs": [
    {
     "name": "stdout",
     "output_type": "stream",
     "text": [
      "<class 'pandas.core.frame.DataFrame'>\n",
      "Int64Index: 121006 entries, 0 to 141537\n",
      "Data columns (total 25 columns):\n",
      " #   Column                                      Non-Null Count   Dtype  \n",
      "---  ------                                      --------------   -----  \n",
      " 0   Gender                                      121006 non-null  object \n",
      " 1   Date of Birth                               121006 non-null  object \n",
      " 2   Source of Traffic                           121006 non-null  object \n",
      " 3   Onboard Wifi Service                        103356 non-null  float64\n",
      " 4   Embarkation/Disembarkation time convenient  106928 non-null  float64\n",
      " 5   Ease of Online booking                      121006 non-null  float64\n",
      " 6   Gate location                               105533 non-null  float64\n",
      " 7   Logging                                     121006 non-null  object \n",
      " 8   Onboard Dining Service                      105839 non-null  float64\n",
      " 9   Online Check-in                             106712 non-null  float64\n",
      " 10  Cabin Comfort                               99904 non-null   float64\n",
      " 11  Onboard Entertainment                       106704 non-null  float64\n",
      " 12  Cabin service                               108535 non-null  float64\n",
      " 13  Baggage handling                            99809 non-null   float64\n",
      " 14  Port Check-in Service                       108067 non-null  float64\n",
      " 15  Onboard Service                             104342 non-null  float64\n",
      " 16  Cleanliness                                 101553 non-null  float64\n",
      " 17  Ext_Intcode                                 121006 non-null  object \n",
      " 18  Cruise Name                                 121006 non-null  object \n",
      " 19  Ticket Type                                 121006 non-null  object \n",
      " 20  Cruise Distance                             107942 non-null  float64\n",
      " 21  WiFi                                        57785 non-null   float64\n",
      " 22  Dining                                      121006 non-null  float64\n",
      " 23  Entertainment                               66583 non-null   float64\n",
      " 24  Age                                         121006 non-null  float64\n",
      "dtypes: float64(18), object(7)\n",
      "memory usage: 28.0+ MB\n"
     ]
    }
   ],
   "source": [
    "merged_data.info()"
   ]
  },
  {
   "cell_type": "markdown",
   "id": "fcc4e7a4",
   "metadata": {},
   "source": [
    "# Insights and Conclusions\n",
    "**Purpose:** \n",
    "- Summarize key findings and draw conclusions\n",
    "\n",
    "**Actions:**\n",
    "- Provide summary of most important insights\n",
    "- Explain any unexpected or interesting patterns\n",
    "- Discuss implications and potential next steps"
   ]
  }
 ],
 "metadata": {
  "kernelspec": {
   "display_name": "Python 3 (ipykernel)",
   "language": "python",
   "name": "python3"
  },
  "language_info": {
   "codemirror_mode": {
    "name": "ipython",
    "version": 3
   },
   "file_extension": ".py",
   "mimetype": "text/x-python",
   "name": "python",
   "nbconvert_exporter": "python",
   "pygments_lexer": "ipython3",
   "version": "3.11.3"
  }
 },
 "nbformat": 4,
 "nbformat_minor": 5
}
