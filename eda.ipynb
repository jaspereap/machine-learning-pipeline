{
 "cells": [
  {
   "cell_type": "markdown",
   "id": "b00cd989",
   "metadata": {},
   "source": [
    "# Task 1 - Exploratory Data Analysis (EDA)\n",
    "- This notebook aims to present the findings of my analysis, and also a detailed walkthrough of the steps taken to derive the results."
   ]
  },
  {
   "cell_type": "markdown",
   "id": "3fda10e9",
   "metadata": {},
   "source": [
    "# Data Pre-processing\n",
    "## (a) Import libraries required"
   ]
  },
  {
   "cell_type": "code",
   "execution_count": 1,
   "id": "4f9e6c65",
   "metadata": {},
   "outputs": [],
   "source": [
    "import matplotlib as plt\n",
    "import pandas as pd\n",
    "import seaborn as sb\n",
    "import sqlite3"
   ]
  },
  {
   "cell_type": "markdown",
   "id": "143a0d76",
   "metadata": {},
   "source": [
    "## (b) Use **sqlite3** to read **'cruise_post.db'** and **'cruise_pre.db'** into Python"
   ]
  },
  {
   "cell_type": "markdown",
   "id": "1e780ed6",
   "metadata": {},
   "source": [
    "### (bi) Define a 'create database connection' function"
   ]
  },
  {
   "cell_type": "code",
   "execution_count": 2,
   "id": "f3c4e8e8",
   "metadata": {},
   "outputs": [],
   "source": [
    "# Define a function that returns database connection object\n",
    "\n",
    "def get_db_connection(url):\n",
    "    conn = sqlite3.connect(url)        # points database connection object to conn\n",
    "    conn.row_factory = sqlite3.Row     # set return rows as dictionaries instead of tuples\n",
    "    return conn"
   ]
  },
  {
   "cell_type": "markdown",
   "id": "c27ba8ae",
   "metadata": {},
   "source": [
    "### (bii) Read **cruise_pre.db** and **cruise_post.db** into Python"
   ]
  },
  {
   "cell_type": "code",
   "execution_count": 3,
   "id": "12bcbff7",
   "metadata": {},
   "outputs": [
    {
     "ename": "OperationalError",
     "evalue": "unable to open database file",
     "output_type": "error",
     "traceback": [
      "\u001b[0;31m---------------------------------------------------------------------------\u001b[0m",
      "\u001b[0;31mOperationalError\u001b[0m                          Traceback (most recent call last)",
      "Cell \u001b[0;32mIn[3], line 12\u001b[0m\n\u001b[1;32m      8\u001b[0m \u001b[39m# Iterate through the 2 provided data sets: cruise_pre.db and cruise_post.db\u001b[39;00m\n\u001b[1;32m      9\u001b[0m \u001b[39mfor\u001b[39;00m table \u001b[39min\u001b[39;00m table_name:\n\u001b[1;32m     10\u001b[0m \n\u001b[1;32m     11\u001b[0m     \u001b[39m# Create connection to database\u001b[39;00m\n\u001b[0;32m---> 12\u001b[0m     conn \u001b[39m=\u001b[39m get_db_connection(\u001b[39m'\u001b[39m\u001b[39mdata/\u001b[39m\u001b[39m'\u001b[39m\u001b[39m+\u001b[39m table \u001b[39m+\u001b[39m \u001b[39m'\u001b[39m\u001b[39m.db\u001b[39m\u001b[39m'\u001b[39m)\n\u001b[1;32m     13\u001b[0m     \u001b[39m# Execute query to fetch all rows and columns\u001b[39;00m\n\u001b[1;32m     14\u001b[0m     data \u001b[39m=\u001b[39m conn\u001b[39m.\u001b[39mexecute(\u001b[39m'\u001b[39m\u001b[39mSELECT * FROM \u001b[39m\u001b[39m{}\u001b[39;00m\u001b[39m'\u001b[39m\u001b[39m.\u001b[39mformat(table))\u001b[39m.\u001b[39mfetchall()\n",
      "Cell \u001b[0;32mIn[2], line 4\u001b[0m, in \u001b[0;36mget_db_connection\u001b[0;34m(url)\u001b[0m\n\u001b[1;32m      3\u001b[0m \u001b[39mdef\u001b[39;00m \u001b[39mget_db_connection\u001b[39m(url):\n\u001b[0;32m----> 4\u001b[0m     conn \u001b[39m=\u001b[39m sqlite3\u001b[39m.\u001b[39mconnect(url)        \u001b[39m# points database connection object to conn\u001b[39;00m\n\u001b[1;32m      5\u001b[0m     conn\u001b[39m.\u001b[39mrow_factory \u001b[39m=\u001b[39m sqlite3\u001b[39m.\u001b[39mRow     \u001b[39m# set return rows as dictionaries instead of tuples\u001b[39;00m\n\u001b[1;32m      6\u001b[0m     \u001b[39mreturn\u001b[39;00m conn\n",
      "\u001b[0;31mOperationalError\u001b[0m: unable to open database file"
     ]
    }
   ],
   "source": [
    "# Read cruise_pre.db and cruise_post.db into list of dictionaries\n",
    "\n",
    "# Define required variables\n",
    "table_name = ['cruise_pre','cruise_post']\n",
    "cruise_pre_data = []\n",
    "cruise_post_data = []\n",
    "\n",
    "# Iterate through the 2 provided data sets: cruise_pre.db and cruise_post.db\n",
    "for table in table_name:\n",
    "\n",
    "    # Create connection to database\n",
    "    conn = get_db_connection('data/'+ table + '.db')\n",
    "    # Execute query to fetch all rows and columns\n",
    "    data = conn.execute('SELECT * FROM {}'.format(table)).fetchall()\n",
    "\n",
    "    # Append row to respective variable container\n",
    "    if table == 'cruise_pre':\n",
    "        for i in data:\n",
    "            cruise_pre_data.append(dict(i))\n",
    "    else:\n",
    "        for i in data:\n",
    "            cruise_post_data.append(dict(i))\n",
    "\n",
    "# close database connection\n",
    "conn.close()\n",
    "\n",
    "# Output: cruise_pre_data and cruise_post_data now contains list of dictionaries"
   ]
  },
  {
   "cell_type": "markdown",
   "id": "507aa18c",
   "metadata": {},
   "source": [
    "### (biii) Convert list of dict to Pandas DataFrame\n",
    "- As Pandas DataFrame objects, many data manipulation and analytics tools are made available to us\n",
    "- One main advantage is being able to present data in pleasantly formatted tables\n",
    "- As shown in 'Pre-cruise Customer Survey' and 'Post-cruise Customer Data'"
   ]
  },
  {
   "cell_type": "code",
   "execution_count": null,
   "id": "a3f4aa0c",
   "metadata": {},
   "outputs": [],
   "source": [
    "# Read list of dictionaries into Pandas Dataframe\n",
    "# Set 'index' column as index\n",
    "cruise_post_df = pd.DataFrame(data=cruise_post_data).set_index('index')\n",
    "cruise_pre_df = pd.DataFrame(data=cruise_pre_data).set_index('index')"
   ]
  },
  {
   "cell_type": "markdown",
   "id": "7c0ff99d",
   "metadata": {},
   "source": [
    "### Pre-cruise Customer Survey\n",
    "- This is a pre-purchase survey conducted to give ShipSail insights into what their customers prefer, or what is considered important to them for an enjoyable cruise journey."
   ]
  },
  {
   "cell_type": "code",
   "execution_count": null,
   "id": "73fbe97f",
   "metadata": {},
   "outputs": [
    {
     "data": {
      "text/html": [
       "<div>\n",
       "<style scoped>\n",
       "    .dataframe tbody tr th:only-of-type {\n",
       "        vertical-align: middle;\n",
       "    }\n",
       "\n",
       "    .dataframe tbody tr th {\n",
       "        vertical-align: top;\n",
       "    }\n",
       "\n",
       "    .dataframe thead th {\n",
       "        text-align: right;\n",
       "    }\n",
       "</style>\n",
       "<table border=\"1\" class=\"dataframe\">\n",
       "  <thead>\n",
       "    <tr style=\"text-align: right;\">\n",
       "      <th></th>\n",
       "      <th>Gender</th>\n",
       "      <th>Date of Birth</th>\n",
       "      <th>Source of Traffic</th>\n",
       "      <th>Onboard Wifi Service</th>\n",
       "      <th>Embarkation/Disembarkation time convenient</th>\n",
       "      <th>Ease of Online booking</th>\n",
       "      <th>Gate location</th>\n",
       "      <th>Logging</th>\n",
       "      <th>Onboard Dining Service</th>\n",
       "      <th>Online Check-in</th>\n",
       "      <th>Cabin Comfort</th>\n",
       "      <th>Onboard Entertainment</th>\n",
       "      <th>Cabin service</th>\n",
       "      <th>Baggage handling</th>\n",
       "      <th>Port Check-in Service</th>\n",
       "      <th>Onboard Service</th>\n",
       "      <th>Cleanliness</th>\n",
       "      <th>Ext_Intcode</th>\n",
       "    </tr>\n",
       "    <tr>\n",
       "      <th>index</th>\n",
       "      <th></th>\n",
       "      <th></th>\n",
       "      <th></th>\n",
       "      <th></th>\n",
       "      <th></th>\n",
       "      <th></th>\n",
       "      <th></th>\n",
       "      <th></th>\n",
       "      <th></th>\n",
       "      <th></th>\n",
       "      <th></th>\n",
       "      <th></th>\n",
       "      <th></th>\n",
       "      <th></th>\n",
       "      <th></th>\n",
       "      <th></th>\n",
       "      <th></th>\n",
       "      <th></th>\n",
       "    </tr>\n",
       "  </thead>\n",
       "  <tbody>\n",
       "    <tr>\n",
       "      <th>133743</th>\n",
       "      <td>Male</td>\n",
       "      <td>23/10/2012</td>\n",
       "      <td>Direct - Email Marketing</td>\n",
       "      <td>Extremely important</td>\n",
       "      <td>5.0</td>\n",
       "      <td>5.0</td>\n",
       "      <td>5.0</td>\n",
       "      <td>31/08/2023 23:41</td>\n",
       "      <td>Extremely important</td>\n",
       "      <td>5.0</td>\n",
       "      <td>5.0</td>\n",
       "      <td>Extremely important</td>\n",
       "      <td>4.0</td>\n",
       "      <td>5.0</td>\n",
       "      <td>4.0</td>\n",
       "      <td>4.0</td>\n",
       "      <td>5.0</td>\n",
       "      <td>BL343MAXXIT</td>\n",
       "    </tr>\n",
       "    <tr>\n",
       "      <th>133744</th>\n",
       "      <td>Female</td>\n",
       "      <td>None</td>\n",
       "      <td>Indirect - Search Engine</td>\n",
       "      <td>A little important</td>\n",
       "      <td>1.0</td>\n",
       "      <td>1.0</td>\n",
       "      <td>4.0</td>\n",
       "      <td>31/08/2023 23:43</td>\n",
       "      <td>None</td>\n",
       "      <td>2.0</td>\n",
       "      <td>4.0</td>\n",
       "      <td>Very important</td>\n",
       "      <td>5.0</td>\n",
       "      <td>4.0</td>\n",
       "      <td>3.0</td>\n",
       "      <td>5.0</td>\n",
       "      <td>4.0</td>\n",
       "      <td>LB957GHIRBD</td>\n",
       "    </tr>\n",
       "    <tr>\n",
       "      <th>133745</th>\n",
       "      <td>Male</td>\n",
       "      <td>07/09/1996</td>\n",
       "      <td>Direct - Company Website</td>\n",
       "      <td>None</td>\n",
       "      <td>NaN</td>\n",
       "      <td>0.0</td>\n",
       "      <td>1.0</td>\n",
       "      <td>31/08/2023 23:44</td>\n",
       "      <td>None</td>\n",
       "      <td>0.0</td>\n",
       "      <td>2.0</td>\n",
       "      <td>Extremely important</td>\n",
       "      <td>2.0</td>\n",
       "      <td>1.0</td>\n",
       "      <td>NaN</td>\n",
       "      <td>1.0</td>\n",
       "      <td>5.0</td>\n",
       "      <td>LB539JAJHXJ</td>\n",
       "    </tr>\n",
       "  </tbody>\n",
       "</table>\n",
       "</div>"
      ],
      "text/plain": [
       "        Gender Date of Birth         Source of Traffic Onboard Wifi Service  \\\n",
       "index                                                                         \n",
       "133743    Male    23/10/2012  Direct - Email Marketing  Extremely important   \n",
       "133744  Female          None  Indirect - Search Engine   A little important   \n",
       "133745    Male    07/09/1996  Direct - Company Website                 None   \n",
       "\n",
       "        Embarkation/Disembarkation time convenient  Ease of Online booking  \\\n",
       "index                                                                        \n",
       "133743                                         5.0                     5.0   \n",
       "133744                                         1.0                     1.0   \n",
       "133745                                         NaN                     0.0   \n",
       "\n",
       "        Gate location           Logging Onboard Dining Service  \\\n",
       "index                                                            \n",
       "133743            5.0  31/08/2023 23:41    Extremely important   \n",
       "133744            4.0  31/08/2023 23:43                   None   \n",
       "133745            1.0  31/08/2023 23:44                   None   \n",
       "\n",
       "        Online Check-in  Cabin Comfort Onboard Entertainment  Cabin service  \\\n",
       "index                                                                         \n",
       "133743              5.0            5.0   Extremely important            4.0   \n",
       "133744              2.0            4.0        Very important            5.0   \n",
       "133745              0.0            2.0   Extremely important            2.0   \n",
       "\n",
       "        Baggage handling  Port Check-in Service  Onboard Service  Cleanliness  \\\n",
       "index                                                                           \n",
       "133743               5.0                    4.0              4.0          5.0   \n",
       "133744               4.0                    3.0              5.0          4.0   \n",
       "133745               1.0                    NaN              1.0          5.0   \n",
       "\n",
       "        Ext_Intcode  \n",
       "index                \n",
       "133743  BL343MAXXIT  \n",
       "133744  LB957GHIRBD  \n",
       "133745  LB539JAJHXJ  "
      ]
     },
     "execution_count": 15,
     "metadata": {},
     "output_type": "execute_result"
    }
   ],
   "source": [
    "# Display part of cruise pre dataset\n",
    "cruise_pre_df.tail(3)"
   ]
  },
  {
   "cell_type": "markdown",
   "id": "01b3b42b",
   "metadata": {},
   "source": [
    "### Post-cruise Customer Data\n",
    "- This is a post-trip data collected by ShipSail to provide insights into the services or products that customers chosen in reality."
   ]
  },
  {
   "cell_type": "code",
   "execution_count": null,
   "id": "f7afb854",
   "metadata": {},
   "outputs": [
    {
     "data": {
      "text/html": [
       "<div>\n",
       "<style scoped>\n",
       "    .dataframe tbody tr th:only-of-type {\n",
       "        vertical-align: middle;\n",
       "    }\n",
       "\n",
       "    .dataframe tbody tr th {\n",
       "        vertical-align: top;\n",
       "    }\n",
       "\n",
       "    .dataframe thead th {\n",
       "        text-align: right;\n",
       "    }\n",
       "</style>\n",
       "<table border=\"1\" class=\"dataframe\">\n",
       "  <thead>\n",
       "    <tr style=\"text-align: right;\">\n",
       "      <th></th>\n",
       "      <th>Cruise Name</th>\n",
       "      <th>Ticket Type</th>\n",
       "      <th>Cruise Distance</th>\n",
       "      <th>Ext_Intcode</th>\n",
       "      <th>WiFi</th>\n",
       "      <th>Dining</th>\n",
       "      <th>Entertainment</th>\n",
       "    </tr>\n",
       "    <tr>\n",
       "      <th>index</th>\n",
       "      <th></th>\n",
       "      <th></th>\n",
       "      <th></th>\n",
       "      <th></th>\n",
       "      <th></th>\n",
       "      <th></th>\n",
       "      <th></th>\n",
       "    </tr>\n",
       "  </thead>\n",
       "  <tbody>\n",
       "    <tr>\n",
       "      <th>133743</th>\n",
       "      <td>Blastoise</td>\n",
       "      <td>Luxury</td>\n",
       "      <td>-1947 KM</td>\n",
       "      <td>BL343MAXXIT</td>\n",
       "      <td>1.0</td>\n",
       "      <td>0</td>\n",
       "      <td>1.0</td>\n",
       "    </tr>\n",
       "    <tr>\n",
       "      <th>133744</th>\n",
       "      <td>Blastoise</td>\n",
       "      <td>Standard</td>\n",
       "      <td>1506 KM</td>\n",
       "      <td>LB957GHIRBD</td>\n",
       "      <td>NaN</td>\n",
       "      <td>1</td>\n",
       "      <td>NaN</td>\n",
       "    </tr>\n",
       "    <tr>\n",
       "      <th>133745</th>\n",
       "      <td>Lapras</td>\n",
       "      <td>Standard</td>\n",
       "      <td>80 KM</td>\n",
       "      <td>LB539JAJHXJ</td>\n",
       "      <td>NaN</td>\n",
       "      <td>0</td>\n",
       "      <td>NaN</td>\n",
       "    </tr>\n",
       "  </tbody>\n",
       "</table>\n",
       "</div>"
      ],
      "text/plain": [
       "       Cruise Name Ticket Type Cruise Distance  Ext_Intcode  WiFi  Dining  \\\n",
       "index                                                                       \n",
       "133743   Blastoise      Luxury        -1947 KM  BL343MAXXIT   1.0       0   \n",
       "133744   Blastoise    Standard         1506 KM  LB957GHIRBD   NaN       1   \n",
       "133745      Lapras    Standard           80 KM  LB539JAJHXJ   NaN       0   \n",
       "\n",
       "        Entertainment  \n",
       "index                  \n",
       "133743            1.0  \n",
       "133744            NaN  \n",
       "133745            NaN  "
      ]
     },
     "execution_count": 16,
     "metadata": {},
     "output_type": "execute_result"
    }
   ],
   "source": [
    "# Display part of cruise post dataset\n",
    "cruise_post_df.tail(3)"
   ]
  }
 ],
 "metadata": {
  "kernelspec": {
   "display_name": "Python 3 (ipykernel)",
   "language": "python",
   "name": "python3"
  },
  "language_info": {
   "codemirror_mode": {
    "name": "ipython",
    "version": 3
   },
   "file_extension": ".py",
   "mimetype": "text/x-python",
   "name": "python",
   "nbconvert_exporter": "python",
   "pygments_lexer": "ipython3",
   "version": "3.11.3"
  }
 },
 "nbformat": 4,
 "nbformat_minor": 5
}
